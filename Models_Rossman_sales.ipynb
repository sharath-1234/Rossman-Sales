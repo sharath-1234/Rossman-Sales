{
 "cells": [
  {
   "cell_type": "code",
   "execution_count": 2,
   "id": "797e5941",
   "metadata": {},
   "outputs": [],
   "source": [
    "# Importing libraries\n",
    "import pandas as pd\n",
    "import numpy as np\n",
    "import matplotlib.pyplot as plt\n",
    "import seaborn as sns\n",
    "import warnings\n",
    "warnings.filterwarnings(\"ignore\")\n",
    "import datetime as dt\n",
    "from tqdm import tqdm\n",
    "\n",
    "from sklearn.model_selection import RandomizedSearchCV,TimeSeriesSplit, train_test_split\n",
    "from sklearn.linear_model import SGDRegressor\n",
    "from sklearn.tree import DecisionTreeRegressor\n",
    "from sklearn.ensemble import RandomForestRegressor\n",
    "from sklearn.metrics import make_scorer\n",
    "from sklearn.svm import SVR\n",
    "from sklearn.model_selection import cross_val_score\n",
    "\n",
    "from sklearn.preprocessing import OneHotEncoder, LabelEncoder, StandardScaler\n",
    "from sklearn.experimental import enable_iterative_imputer\n",
    "from sklearn.impute import SimpleImputer, IterativeImputer\n",
    "\n",
    "from sklearn.experimental import enable_iterative_imputer\n",
    "from sklearn.impute import SimpleImputer,IterativeImputer\n",
    "\n",
    "from sklearn.pipeline import Pipeline,FeatureUnion\n",
    "from sklearn.compose import ColumnTransformer\n",
    "\n",
    "from operator import *\n",
    "import pickle\n",
    "from IPython.display import Image"
   ]
  },
  {
   "cell_type": "code",
   "execution_count": 4,
   "id": "358c8a37",
   "metadata": {},
   "outputs": [],
   "source": [
    "mydateparse = lambda dt: pd.to_datetime(dt,format=\"%Y-%m-%d\")\n",
    "\n",
    "df_train = pd.read_csv(\"features/df_fourier_no_zeros\",parse_dates=['Date'],date_parser=mydateparse)\n",
    "\n",
    "df_test = pd.read_csv(\"df_test_with_no_zeros\")"
   ]
  },
  {
   "cell_type": "code",
   "execution_count": 5,
   "id": "cd5736ae",
   "metadata": {},
   "outputs": [],
   "source": [
    "# Removing the duplicate column\n",
    "df_test = df_test.drop(df_test.columns[-1],axis=1)"
   ]
  },
  {
   "cell_type": "code",
   "execution_count": null,
   "id": "b7b0403c",
   "metadata": {},
   "outputs": [],
   "source": []
  },
  {
   "cell_type": "code",
   "execution_count": 6,
   "id": "8ebab27f",
   "metadata": {},
   "outputs": [],
   "source": [
    "def rmspe(y,yhat):\n",
    "    rmspe = np.sqrt(np.mean(((y-yhat)/y)**2))\n",
    "    return rmspe\n",
    "\n",
    "def rmspe_xg(yhat,y):\n",
    "    \n",
    "    y = y.get_label()\n",
    "    rmspe = np.sqrt(np.mean(((y-yhat)/y)**2))\n",
    "    return \"rmspe\",rmspe\n",
    "\n",
    "scorer = make_scorer(rmspe,greater_is_better=False)"
   ]
  },
  {
   "cell_type": "code",
   "execution_count": 7,
   "id": "aa887d0a",
   "metadata": {},
   "outputs": [
    {
     "data": {
      "text/html": [
       "<div>\n",
       "<style scoped>\n",
       "    .dataframe tbody tr th:only-of-type {\n",
       "        vertical-align: middle;\n",
       "    }\n",
       "\n",
       "    .dataframe tbody tr th {\n",
       "        vertical-align: top;\n",
       "    }\n",
       "\n",
       "    .dataframe thead th {\n",
       "        text-align: right;\n",
       "    }\n",
       "</style>\n",
       "<table border=\"1\" class=\"dataframe\">\n",
       "  <thead>\n",
       "    <tr style=\"text-align: right;\">\n",
       "      <th></th>\n",
       "      <th>Store</th>\n",
       "      <th>DayOfWeek</th>\n",
       "      <th>Date</th>\n",
       "      <th>Sales</th>\n",
       "      <th>Open</th>\n",
       "      <th>Promo</th>\n",
       "      <th>StateHoliday</th>\n",
       "      <th>SchoolHoliday</th>\n",
       "      <th>SalesLog</th>\n",
       "      <th>StoreType</th>\n",
       "      <th>...</th>\n",
       "      <th>Monthly_rolling_mean</th>\n",
       "      <th>Previous_quarter_median</th>\n",
       "      <th>Previous_half_year_median</th>\n",
       "      <th>Median_over_day_of_week</th>\n",
       "      <th>Promo_median_sales</th>\n",
       "      <th>Holiday_median_sales</th>\n",
       "      <th>Frequency_2</th>\n",
       "      <th>Frequency_3</th>\n",
       "      <th>Amplitude_2</th>\n",
       "      <th>Amplitude_3</th>\n",
       "    </tr>\n",
       "  </thead>\n",
       "  <tbody>\n",
       "    <tr>\n",
       "      <th>0</th>\n",
       "      <td>1</td>\n",
       "      <td>5</td>\n",
       "      <td>2013-02-01</td>\n",
       "      <td>5633</td>\n",
       "      <td>1</td>\n",
       "      <td>0</td>\n",
       "      <td>0</td>\n",
       "      <td>0</td>\n",
       "      <td>8.636575</td>\n",
       "      <td>c</td>\n",
       "      <td>...</td>\n",
       "      <td>NaN</td>\n",
       "      <td>NaN</td>\n",
       "      <td>NaN</td>\n",
       "      <td>4649.0</td>\n",
       "      <td>5199.5</td>\n",
       "      <td>4523.0</td>\n",
       "      <td>-0.006443</td>\n",
       "      <td>0.003866</td>\n",
       "      <td>137783.846537</td>\n",
       "      <td>120409.75778</td>\n",
       "    </tr>\n",
       "    <tr>\n",
       "      <th>1</th>\n",
       "      <td>1</td>\n",
       "      <td>5</td>\n",
       "      <td>2013-03-01</td>\n",
       "      <td>4611</td>\n",
       "      <td>1</td>\n",
       "      <td>0</td>\n",
       "      <td>0</td>\n",
       "      <td>0</td>\n",
       "      <td>8.436417</td>\n",
       "      <td>c</td>\n",
       "      <td>...</td>\n",
       "      <td>5085.666667</td>\n",
       "      <td>NaN</td>\n",
       "      <td>NaN</td>\n",
       "      <td>4649.0</td>\n",
       "      <td>5199.5</td>\n",
       "      <td>4523.0</td>\n",
       "      <td>-0.006443</td>\n",
       "      <td>0.003866</td>\n",
       "      <td>137783.846537</td>\n",
       "      <td>120409.75778</td>\n",
       "    </tr>\n",
       "    <tr>\n",
       "      <th>2</th>\n",
       "      <td>1</td>\n",
       "      <td>6</td>\n",
       "      <td>2013-06-01</td>\n",
       "      <td>5693</td>\n",
       "      <td>1</td>\n",
       "      <td>0</td>\n",
       "      <td>0</td>\n",
       "      <td>0</td>\n",
       "      <td>8.647168</td>\n",
       "      <td>c</td>\n",
       "      <td>...</td>\n",
       "      <td>5149.300000</td>\n",
       "      <td>NaN</td>\n",
       "      <td>NaN</td>\n",
       "      <td>4773.0</td>\n",
       "      <td>5199.5</td>\n",
       "      <td>4523.0</td>\n",
       "      <td>-0.006443</td>\n",
       "      <td>0.003866</td>\n",
       "      <td>137783.846537</td>\n",
       "      <td>120409.75778</td>\n",
       "    </tr>\n",
       "    <tr>\n",
       "      <th>3</th>\n",
       "      <td>1</td>\n",
       "      <td>1</td>\n",
       "      <td>2013-07-01</td>\n",
       "      <td>5614</td>\n",
       "      <td>1</td>\n",
       "      <td>1</td>\n",
       "      <td>0</td>\n",
       "      <td>0</td>\n",
       "      <td>8.633197</td>\n",
       "      <td>c</td>\n",
       "      <td>...</td>\n",
       "      <td>4773.866667</td>\n",
       "      <td>NaN</td>\n",
       "      <td>NaN</td>\n",
       "      <td>5280.0</td>\n",
       "      <td>5199.5</td>\n",
       "      <td>4523.0</td>\n",
       "      <td>-0.006443</td>\n",
       "      <td>0.003866</td>\n",
       "      <td>137783.846537</td>\n",
       "      <td>120409.75778</td>\n",
       "    </tr>\n",
       "    <tr>\n",
       "      <th>4</th>\n",
       "      <td>1</td>\n",
       "      <td>4</td>\n",
       "      <td>2013-08-01</td>\n",
       "      <td>4994</td>\n",
       "      <td>1</td>\n",
       "      <td>1</td>\n",
       "      <td>0</td>\n",
       "      <td>1</td>\n",
       "      <td>8.516193</td>\n",
       "      <td>c</td>\n",
       "      <td>...</td>\n",
       "      <td>4774.566667</td>\n",
       "      <td>NaN</td>\n",
       "      <td>NaN</td>\n",
       "      <td>4380.0</td>\n",
       "      <td>5199.5</td>\n",
       "      <td>4523.0</td>\n",
       "      <td>-0.006443</td>\n",
       "      <td>0.003866</td>\n",
       "      <td>137783.846537</td>\n",
       "      <td>120409.75778</td>\n",
       "    </tr>\n",
       "  </tbody>\n",
       "</table>\n",
       "<p>5 rows × 54 columns</p>\n",
       "</div>"
      ],
      "text/plain": [
       "   Store  DayOfWeek       Date  Sales  Open  Promo StateHoliday  \\\n",
       "0      1          5 2013-02-01   5633     1      0            0   \n",
       "1      1          5 2013-03-01   4611     1      0            0   \n",
       "2      1          6 2013-06-01   5693     1      0            0   \n",
       "3      1          1 2013-07-01   5614     1      1            0   \n",
       "4      1          4 2013-08-01   4994     1      1            0   \n",
       "\n",
       "   SchoolHoliday  SalesLog StoreType  ... Monthly_rolling_mean  \\\n",
       "0              0  8.636575         c  ...                  NaN   \n",
       "1              0  8.436417         c  ...          5085.666667   \n",
       "2              0  8.647168         c  ...          5149.300000   \n",
       "3              0  8.633197         c  ...          4773.866667   \n",
       "4              1  8.516193         c  ...          4774.566667   \n",
       "\n",
       "   Previous_quarter_median  Previous_half_year_median  \\\n",
       "0                      NaN                        NaN   \n",
       "1                      NaN                        NaN   \n",
       "2                      NaN                        NaN   \n",
       "3                      NaN                        NaN   \n",
       "4                      NaN                        NaN   \n",
       "\n",
       "   Median_over_day_of_week  Promo_median_sales  Holiday_median_sales  \\\n",
       "0                   4649.0              5199.5                4523.0   \n",
       "1                   4649.0              5199.5                4523.0   \n",
       "2                   4773.0              5199.5                4523.0   \n",
       "3                   5280.0              5199.5                4523.0   \n",
       "4                   4380.0              5199.5                4523.0   \n",
       "\n",
       "   Frequency_2 Frequency_3    Amplitude_2   Amplitude_3  \n",
       "0    -0.006443    0.003866  137783.846537  120409.75778  \n",
       "1    -0.006443    0.003866  137783.846537  120409.75778  \n",
       "2    -0.006443    0.003866  137783.846537  120409.75778  \n",
       "3    -0.006443    0.003866  137783.846537  120409.75778  \n",
       "4    -0.006443    0.003866  137783.846537  120409.75778  \n",
       "\n",
       "[5 rows x 54 columns]"
      ]
     },
     "execution_count": 7,
     "metadata": {},
     "output_type": "execute_result"
    }
   ],
   "source": [
    "df_train.head(5)"
   ]
  },
  {
   "cell_type": "code",
   "execution_count": 8,
   "id": "57968985",
   "metadata": {},
   "outputs": [],
   "source": [
    "df_train.sort_values(\"Date\",inplace=True)"
   ]
  },
  {
   "cell_type": "code",
   "execution_count": 9,
   "id": "7119e0ed",
   "metadata": {},
   "outputs": [
    {
     "data": {
      "text/html": [
       "<div>\n",
       "<style scoped>\n",
       "    .dataframe tbody tr th:only-of-type {\n",
       "        vertical-align: middle;\n",
       "    }\n",
       "\n",
       "    .dataframe tbody tr th {\n",
       "        vertical-align: top;\n",
       "    }\n",
       "\n",
       "    .dataframe thead th {\n",
       "        text-align: right;\n",
       "    }\n",
       "</style>\n",
       "<table border=\"1\" class=\"dataframe\">\n",
       "  <thead>\n",
       "    <tr style=\"text-align: right;\">\n",
       "      <th></th>\n",
       "      <th>Store</th>\n",
       "      <th>DayOfWeek</th>\n",
       "      <th>Date</th>\n",
       "      <th>Sales</th>\n",
       "      <th>Open</th>\n",
       "      <th>Promo</th>\n",
       "      <th>StateHoliday</th>\n",
       "      <th>SchoolHoliday</th>\n",
       "      <th>SalesLog</th>\n",
       "      <th>StoreType</th>\n",
       "      <th>...</th>\n",
       "      <th>Monthly_rolling_mean</th>\n",
       "      <th>Previous_quarter_median</th>\n",
       "      <th>Previous_half_year_median</th>\n",
       "      <th>Median_over_day_of_week</th>\n",
       "      <th>Promo_median_sales</th>\n",
       "      <th>Holiday_median_sales</th>\n",
       "      <th>Frequency_2</th>\n",
       "      <th>Frequency_3</th>\n",
       "      <th>Amplitude_2</th>\n",
       "      <th>Amplitude_3</th>\n",
       "    </tr>\n",
       "  </thead>\n",
       "  <tbody>\n",
       "    <tr>\n",
       "      <th>542</th>\n",
       "      <td>85</td>\n",
       "      <td>2</td>\n",
       "      <td>2013-01-01</td>\n",
       "      <td>4220</td>\n",
       "      <td>1</td>\n",
       "      <td>0</td>\n",
       "      <td>a</td>\n",
       "      <td>1</td>\n",
       "      <td>8.347827</td>\n",
       "      <td>b</td>\n",
       "      <td>...</td>\n",
       "      <td>NaN</td>\n",
       "      <td>NaN</td>\n",
       "      <td>NaN</td>\n",
       "      <td>6746.0</td>\n",
       "      <td>7202.0</td>\n",
       "      <td>6621.0</td>\n",
       "      <td>-0.005612</td>\n",
       "      <td>0.113356</td>\n",
       "      <td>167823.404310</td>\n",
       "      <td>151474.773924</td>\n",
       "    </tr>\n",
       "    <tr>\n",
       "      <th>2753</th>\n",
       "      <td>423</td>\n",
       "      <td>2</td>\n",
       "      <td>2013-01-01</td>\n",
       "      <td>9643</td>\n",
       "      <td>1</td>\n",
       "      <td>0</td>\n",
       "      <td>a</td>\n",
       "      <td>1</td>\n",
       "      <td>9.174091</td>\n",
       "      <td>b</td>\n",
       "      <td>...</td>\n",
       "      <td>NaN</td>\n",
       "      <td>NaN</td>\n",
       "      <td>NaN</td>\n",
       "      <td>10195.0</td>\n",
       "      <td>11338.0</td>\n",
       "      <td>10598.0</td>\n",
       "      <td>-0.119658</td>\n",
       "      <td>-0.227564</td>\n",
       "      <td>365705.744312</td>\n",
       "      <td>247568.075518</td>\n",
       "    </tr>\n",
       "    <tr>\n",
       "      <th>7175</th>\n",
       "      <td>1097</td>\n",
       "      <td>2</td>\n",
       "      <td>2013-01-01</td>\n",
       "      <td>5961</td>\n",
       "      <td>1</td>\n",
       "      <td>0</td>\n",
       "      <td>a</td>\n",
       "      <td>1</td>\n",
       "      <td>8.693161</td>\n",
       "      <td>b</td>\n",
       "      <td>...</td>\n",
       "      <td>NaN</td>\n",
       "      <td>NaN</td>\n",
       "      <td>NaN</td>\n",
       "      <td>9443.0</td>\n",
       "      <td>10222.0</td>\n",
       "      <td>8875.0</td>\n",
       "      <td>-0.119914</td>\n",
       "      <td>-0.001071</td>\n",
       "      <td>284199.318582</td>\n",
       "      <td>248669.925246</td>\n",
       "    </tr>\n",
       "    <tr>\n",
       "      <th>1693</th>\n",
       "      <td>262</td>\n",
       "      <td>2</td>\n",
       "      <td>2013-01-01</td>\n",
       "      <td>17267</td>\n",
       "      <td>1</td>\n",
       "      <td>0</td>\n",
       "      <td>a</td>\n",
       "      <td>1</td>\n",
       "      <td>9.756610</td>\n",
       "      <td>b</td>\n",
       "      <td>...</td>\n",
       "      <td>NaN</td>\n",
       "      <td>NaN</td>\n",
       "      <td>NaN</td>\n",
       "      <td>18856.0</td>\n",
       "      <td>20251.0</td>\n",
       "      <td>19200.5</td>\n",
       "      <td>-0.123333</td>\n",
       "      <td>0.124444</td>\n",
       "      <td>444458.857440</td>\n",
       "      <td>344153.269707</td>\n",
       "    </tr>\n",
       "    <tr>\n",
       "      <th>3343</th>\n",
       "      <td>512</td>\n",
       "      <td>2</td>\n",
       "      <td>2013-01-01</td>\n",
       "      <td>2646</td>\n",
       "      <td>1</td>\n",
       "      <td>0</td>\n",
       "      <td>a</td>\n",
       "      <td>1</td>\n",
       "      <td>7.881182</td>\n",
       "      <td>b</td>\n",
       "      <td>...</td>\n",
       "      <td>NaN</td>\n",
       "      <td>NaN</td>\n",
       "      <td>NaN</td>\n",
       "      <td>5174.5</td>\n",
       "      <td>5724.0</td>\n",
       "      <td>5186.5</td>\n",
       "      <td>0.001357</td>\n",
       "      <td>-0.005427</td>\n",
       "      <td>241086.454067</td>\n",
       "      <td>101319.181792</td>\n",
       "    </tr>\n",
       "  </tbody>\n",
       "</table>\n",
       "<p>5 rows × 54 columns</p>\n",
       "</div>"
      ],
      "text/plain": [
       "      Store  DayOfWeek       Date  Sales  Open  Promo StateHoliday  \\\n",
       "542      85          2 2013-01-01   4220     1      0            a   \n",
       "2753    423          2 2013-01-01   9643     1      0            a   \n",
       "7175   1097          2 2013-01-01   5961     1      0            a   \n",
       "1693    262          2 2013-01-01  17267     1      0            a   \n",
       "3343    512          2 2013-01-01   2646     1      0            a   \n",
       "\n",
       "      SchoolHoliday  SalesLog StoreType  ... Monthly_rolling_mean  \\\n",
       "542               1  8.347827         b  ...                  NaN   \n",
       "2753              1  9.174091         b  ...                  NaN   \n",
       "7175              1  8.693161         b  ...                  NaN   \n",
       "1693              1  9.756610         b  ...                  NaN   \n",
       "3343              1  7.881182         b  ...                  NaN   \n",
       "\n",
       "      Previous_quarter_median  Previous_half_year_median  \\\n",
       "542                       NaN                        NaN   \n",
       "2753                      NaN                        NaN   \n",
       "7175                      NaN                        NaN   \n",
       "1693                      NaN                        NaN   \n",
       "3343                      NaN                        NaN   \n",
       "\n",
       "      Median_over_day_of_week  Promo_median_sales  Holiday_median_sales  \\\n",
       "542                    6746.0              7202.0                6621.0   \n",
       "2753                  10195.0             11338.0               10598.0   \n",
       "7175                   9443.0             10222.0                8875.0   \n",
       "1693                  18856.0             20251.0               19200.5   \n",
       "3343                   5174.5              5724.0                5186.5   \n",
       "\n",
       "      Frequency_2 Frequency_3    Amplitude_2    Amplitude_3  \n",
       "542     -0.005612    0.113356  167823.404310  151474.773924  \n",
       "2753    -0.119658   -0.227564  365705.744312  247568.075518  \n",
       "7175    -0.119914   -0.001071  284199.318582  248669.925246  \n",
       "1693    -0.123333    0.124444  444458.857440  344153.269707  \n",
       "3343     0.001357   -0.005427  241086.454067  101319.181792  \n",
       "\n",
       "[5 rows x 54 columns]"
      ]
     },
     "execution_count": 9,
     "metadata": {},
     "output_type": "execute_result"
    }
   ],
   "source": [
    "df_train.head()"
   ]
  },
  {
   "cell_type": "markdown",
   "id": "e6c5fa8a",
   "metadata": {},
   "source": [
    "# Preprocessing the Data"
   ]
  },
  {
   "cell_type": "code",
   "execution_count": 10,
   "id": "cd4c4183",
   "metadata": {},
   "outputs": [],
   "source": [
    "# Removing some features after VIF analaysis done in Feature Engineering\n",
    "df_1 = df_train.drop(['Date'],axis=1)"
   ]
  },
  {
   "cell_type": "code",
   "execution_count": 11,
   "id": "57378c9c",
   "metadata": {},
   "outputs": [],
   "source": [
    "df_test = df_test.rename(columns={'Sales_per_day':'SalesPerDay',\n",
    "                                  'holidays_this_week':'holiday_this_week',\n",
    "                                  'holidays_last_week': 'holiday_last_week',\n",
    "                                   'holidays_next_week': 'holiday_next_week',\n",
    "                                    'Customers_per_day':'CustomerPerDay',\n",
    "                                    'Median_over_day_week':'Median_over_day_of_week',\n",
    "                                     'Sales_Per_Customers_Per_Day':'SalesPerCustomerPerDay'})"
   ]
  },
  {
   "cell_type": "code",
   "execution_count": 12,
   "id": "5c15813f",
   "metadata": {},
   "outputs": [
    {
     "name": "stdout",
     "output_type": "stream",
     "text": [
      "Id\n"
     ]
    }
   ],
   "source": [
    "for i in df_test.columns:\n",
    "    if i not in df_1.columns:\n",
    "        print(i)"
   ]
  },
  {
   "cell_type": "code",
   "execution_count": 13,
   "id": "f028784b",
   "metadata": {},
   "outputs": [
    {
     "name": "stdout",
     "output_type": "stream",
     "text": [
      "Sales\n",
      "SalesLog\n",
      "State\n",
      "Promo_median_sales\n",
      "Holiday_median_sales\n"
     ]
    }
   ],
   "source": [
    "for i in df_1.columns:\n",
    "    if i not in df_test.columns:\n",
    "        print(i)"
   ]
  },
  {
   "cell_type": "code",
   "execution_count": null,
   "id": "dd0e1d2e",
   "metadata": {},
   "outputs": [],
   "source": []
  },
  {
   "cell_type": "code",
   "execution_count": 14,
   "id": "fe93a6fa",
   "metadata": {},
   "outputs": [],
   "source": [
    "df_1.drop(['Promo_median_sales','Holiday_median_sales','State'],axis=1,inplace=True)"
   ]
  },
  {
   "cell_type": "code",
   "execution_count": 15,
   "id": "a2a75330",
   "metadata": {},
   "outputs": [
    {
     "data": {
      "text/plain": [
       "Store                              0\n",
       "DayOfWeek                          0\n",
       "Sales                              0\n",
       "Open                               0\n",
       "Promo                              0\n",
       "StateHoliday                       0\n",
       "SchoolHoliday                      0\n",
       "SalesLog                           0\n",
       "StoreType                          0\n",
       "Assortment                         0\n",
       "CompetitionDistance             2169\n",
       "CompetitionOpenSinceMonth     266454\n",
       "CompetitionOpenSinceYear      266454\n",
       "Promo2                             0\n",
       "Promo2SinceWeek               420089\n",
       "Promo2SinceYear               420089\n",
       "Year                               0\n",
       "Month                              0\n",
       "Day                                0\n",
       "WeekOfYear                         0\n",
       "DayOfYear                          0\n",
       "holiday_this_week                  0\n",
       "holiday_last_week               7047\n",
       "holiday_next_week               5673\n",
       "State_holiday_before_days          0\n",
       "State_holiday_after_days           0\n",
       "Promo_before_days                  0\n",
       "Promo_after_days                   0\n",
       "School_Holiday_before_days         0\n",
       "School_Holiday_after_days          0\n",
       "SalesPerDay                        0\n",
       "CustomerPerDay                     0\n",
       "SalesPerCustomerPerDay             0\n",
       "CompetitionOpen               266454\n",
       "PromoOpen                     420089\n",
       "PromoInterval0                420089\n",
       "PromoInterval1                420089\n",
       "PromoInterval2                420089\n",
       "PromoInterval3                420089\n",
       "Variation                       1115\n",
       "Acceleration                    2230\n",
       "Weekly_rolling_mean             6690\n",
       "Monthly_rolling_mean           32335\n",
       "Previous_quarter_median       462735\n",
       "Previous_half_year_median     721658\n",
       "Median_over_day_of_week            0\n",
       "Frequency_2                        0\n",
       "Frequency_3                        0\n",
       "Amplitude_2                        0\n",
       "Amplitude_3                        0\n",
       "dtype: int64"
      ]
     },
     "execution_count": 15,
     "metadata": {},
     "output_type": "execute_result"
    }
   ],
   "source": [
    "df_1.isnull().sum()"
   ]
  },
  {
   "cell_type": "code",
   "execution_count": 16,
   "id": "d397d9e2",
   "metadata": {},
   "outputs": [],
   "source": [
    "df_1[['Promo2SinceWeek','Promo2SinceYear','PromoInterval0','PromoInterval1','PromoInterval2','PromoInterval3','PromoOpen']] = df_1[['Promo2SinceWeek','Promo2SinceYear','PromoInterval0','PromoInterval1','PromoInterval2','PromoInterval3','PromoOpen']].fillna(-1)\n",
    "\n",
    "df_test[['Promo2SinceWeek','Promo2SinceYear','PromoInterval0','PromoInterval1','PromoInterval2','PromoInterval3','PromoOpen']] = df_test[['Promo2SinceWeek','Promo2SinceYear','PromoInterval0','PromoInterval1','PromoInterval2','PromoInterval3','PromoOpen']].fillna(-1)"
   ]
  },
  {
   "cell_type": "code",
   "execution_count": 17,
   "id": "e23a09d9",
   "metadata": {},
   "outputs": [
    {
     "data": {
      "text/plain": [
       "Id                                0\n",
       "Store                             0\n",
       "DayOfWeek                         0\n",
       "Open                              0\n",
       "Promo                             0\n",
       "StateHoliday                      0\n",
       "SchoolHoliday                     0\n",
       "StoreType                         0\n",
       "Assortment                        0\n",
       "CompetitionDistance              96\n",
       "CompetitionOpenSinceMonth     15216\n",
       "CompetitionOpenSinceYear      15216\n",
       "Promo2                            0\n",
       "Promo2SinceWeek                   0\n",
       "Promo2SinceYear                   0\n",
       "Year                              0\n",
       "Month                             0\n",
       "Day                               0\n",
       "WeekOfYear                        0\n",
       "DayOfYear                         0\n",
       "holiday_this_week                 0\n",
       "holiday_last_week             41088\n",
       "holiday_next_week             41088\n",
       "State_holiday_before_days         0\n",
       "State_holiday_after_days          0\n",
       "Promo_before_days                 0\n",
       "Promo_after_days                  0\n",
       "School_Holiday_before_days        0\n",
       "School_Holiday_after_days         0\n",
       "SalesPerDay                       0\n",
       "CustomerPerDay                    0\n",
       "SalesPerCustomerPerDay            0\n",
       "CompetitionOpen                   0\n",
       "PromoOpen                         0\n",
       "PromoInterval0                    0\n",
       "PromoInterval1                    0\n",
       "PromoInterval2                    0\n",
       "PromoInterval3                    0\n",
       "Variation                         0\n",
       "Acceleration                      0\n",
       "Weekly_rolling_mean               0\n",
       "Monthly_rolling_mean              0\n",
       "Previous_quarter_median           0\n",
       "Previous_half_year_median         0\n",
       "Median_over_day_of_week           0\n",
       "Frequency_2                       0\n",
       "Frequency_3                       0\n",
       "Amplitude_2                       0\n",
       "Amplitude_3                       0\n",
       "dtype: int64"
      ]
     },
     "execution_count": 17,
     "metadata": {},
     "output_type": "execute_result"
    }
   ],
   "source": [
    "df_test.isnull().sum()"
   ]
  },
  {
   "cell_type": "code",
   "execution_count": 18,
   "id": "2612504d",
   "metadata": {},
   "outputs": [],
   "source": [
    "df_1['StateHoliday'].replace(0,'0',inplace=True)\n",
    "df_test['StateHoliday'].replace(0,'0',inplace=True)"
   ]
  },
  {
   "cell_type": "code",
   "execution_count": 19,
   "id": "10cfe9c3",
   "metadata": {},
   "outputs": [
    {
     "data": {
      "text/plain": [
       "0    40908\n",
       "a      180\n",
       "Name: StateHoliday, dtype: int64"
      ]
     },
     "execution_count": 19,
     "metadata": {},
     "output_type": "execute_result"
    }
   ],
   "source": [
    "df_test['StateHoliday'].value_counts()"
   ]
  },
  {
   "cell_type": "code",
   "execution_count": 20,
   "id": "b0090621",
   "metadata": {},
   "outputs": [],
   "source": [
    "X = df_1.drop(['SalesLog','Sales'],axis=1)\n",
    "y = df_1['Sales']"
   ]
  },
  {
   "cell_type": "code",
   "execution_count": 28,
   "id": "a6a0ffa5",
   "metadata": {},
   "outputs": [],
   "source": [
    "#Some Test ids where Open will be equal to zero.\n",
    "b = [480, 1336, 2192, 3048, 4760, 5616, 6472, 7328, 8184, 9040, 10752]\n",
    "#Saving Ids for further use.\n",
    "ids = df_test['Id'].values\n",
    "#Saving test ids where store were closed.\n",
    "closed_test_ids = df_test.loc[df_test['Open']==0]['Id']\n",
    "#Dropping column Id as it is not in training data.\n",
    "df_test.drop(['Id','Open'], axis=1, inplace=True)"
   ]
  },
  {
   "cell_type": "code",
   "execution_count": 97,
   "id": "03390ced",
   "metadata": {},
   "outputs": [],
   "source": [
    "X.drop(['Open'],axis=1,inplace=True)"
   ]
  },
  {
   "cell_type": "markdown",
   "id": "f709fd90",
   "metadata": {},
   "source": [
    "# BASELINE MODEL "
   ]
  },
  {
   "cell_type": "markdown",
   "id": "7d674383",
   "metadata": {},
   "source": [
    "I have created the a model to check with performance of the model with using new features "
   ]
  },
  {
   "cell_type": "code",
   "execution_count": 48,
   "id": "a4e9496c",
   "metadata": {},
   "outputs": [],
   "source": [
    "base_X = X[['Store', 'DayOfWeek', 'Promo','StateHoliday', 'SchoolHoliday','StoreType', 'Assortment', 'CompetitionDistance',\n",
    "            'CompetitionOpenSinceMonth', 'CompetitionOpenSinceYear', 'Promo2', 'Promo2SinceWeek', 'Promo2SinceYear', 'Year',\n",
    "            'Month', 'Day', 'WeekOfYear', 'DayOfYear',  'SalesPerDay', 'CustomerPerDay', 'SalesPerCustomerPerDay', \n",
    "            'PromoInterval0', 'PromoInterval1', 'PromoInterval2', 'PromoInterval3']]\n",
    "\n",
    "y = df_1['Sales']"
   ]
  },
  {
   "cell_type": "code",
   "execution_count": 49,
   "id": "e0939971",
   "metadata": {},
   "outputs": [
    {
     "name": "stdout",
     "output_type": "stream",
     "text": [
      "Base X shape =  (837940, 25)\n",
      "y shape =  (837940,)\n"
     ]
    }
   ],
   "source": [
    "print(\"Base X shape = \",base_X.shape)\n",
    "print(\"y shape = \",y.shape)"
   ]
  },
  {
   "cell_type": "code",
   "execution_count": 50,
   "id": "2320ed29",
   "metadata": {},
   "outputs": [],
   "source": [
    "base_df = pd.concat([base_X,y],axis=1)"
   ]
  },
  {
   "cell_type": "code",
   "execution_count": 51,
   "id": "1a5ade65",
   "metadata": {},
   "outputs": [],
   "source": [
    "base_submit = df_test[['Store', 'DayOfWeek', 'Promo','StateHoliday', 'SchoolHoliday','StoreType', 'Assortment', 'CompetitionDistance',\n",
    "            'CompetitionOpenSinceMonth', 'CompetitionOpenSinceYear', 'Promo2', 'Promo2SinceWeek', 'Promo2SinceYear', 'Year',\n",
    "            'Month', 'Day', 'WeekOfYear', 'DayOfYear',  'SalesPerDay', 'CustomerPerDay', 'SalesPerCustomerPerDay', \n",
    "            'PromoInterval0', 'PromoInterval1', 'PromoInterval2', 'PromoInterval3']]"
   ]
  },
  {
   "cell_type": "code",
   "execution_count": 52,
   "id": "bd4eea24",
   "metadata": {},
   "outputs": [],
   "source": [
    "cat_cols = ['StoreType','Assortment','StateHoliday','DayOfWeek','Promo','Year','Promo2']\n",
    "num_cols = [i for i in base_X.columns if i not in cat_cols]\n",
    "\n",
    "num_transformer = Pipeline(steps = [('imp', IterativeImputer(initial_strategy='median')),\n",
    "                                    ('scaler', StandardScaler())])\n",
    "\n",
    "cat_transformer = Pipeline(steps = [('imp', SimpleImputer(strategy='most_frequent')),\n",
    "                                    ('onehot', OneHotEncoder(handle_unknown='ignore'))])\n",
    "\n",
    "preprocessor = ColumnTransformer(transformers=[('num', num_transformer,num_cols),\n",
    "                                               ('cat',cat_transformer,cat_cols)])"
   ]
  },
  {
   "cell_type": "code",
   "execution_count": 53,
   "id": "f6845349",
   "metadata": {},
   "outputs": [
    {
     "data": {
      "text/plain": [
       "ColumnTransformer(transformers=[('num',\n",
       "                                 Pipeline(steps=[('imp',\n",
       "                                                  IterativeImputer(initial_strategy='median')),\n",
       "                                                 ('scaler', StandardScaler())]),\n",
       "                                 ['Store', 'SchoolHoliday',\n",
       "                                  'CompetitionDistance',\n",
       "                                  'CompetitionOpenSinceMonth',\n",
       "                                  'CompetitionOpenSinceYear', 'Promo2SinceWeek',\n",
       "                                  'Promo2SinceYear', 'Month', 'Day',\n",
       "                                  'WeekOfYear', 'DayOfYear', 'SalesPerDay',\n",
       "                                  'CustomerPerDay', 'SalesPerCustomerPerDay',\n",
       "                                  'PromoInterval0', 'PromoInterval1',\n",
       "                                  'PromoInterval2', 'PromoInterval3']),\n",
       "                                ('cat',\n",
       "                                 Pipeline(steps=[('imp',\n",
       "                                                  SimpleImputer(strategy='most_frequent')),\n",
       "                                                 ('onehot',\n",
       "                                                  OneHotEncoder(handle_unknown='ignore'))]),\n",
       "                                 ['StoreType', 'Assortment', 'StateHoliday',\n",
       "                                  'DayOfWeek', 'Promo', 'Year', 'Promo2'])])"
      ]
     },
     "execution_count": 53,
     "metadata": {},
     "output_type": "execute_result"
    }
   ],
   "source": [
    "preprocessor.fit(base_X)"
   ]
  },
  {
   "cell_type": "code",
   "execution_count": 54,
   "id": "ad699f01",
   "metadata": {},
   "outputs": [],
   "source": [
    "X_transformed = preprocessor.transform(base_X)\n",
    "x_test = preprocessor.transform(base_submit)"
   ]
  },
  {
   "cell_type": "code",
   "execution_count": 55,
   "id": "fefe2b84",
   "metadata": {},
   "outputs": [],
   "source": [
    "from sklearn.model_selection import train_test_split"
   ]
  },
  {
   "cell_type": "code",
   "execution_count": 56,
   "id": "f546258a",
   "metadata": {},
   "outputs": [],
   "source": [
    "X_train, X_test, y_train, y_test = train_test_split(X_transformed,\n",
    "                                                   y,\n",
    "                                                   shuffle=False,\n",
    "                                                   random_state=21,\n",
    "                                                   test_size=0.2)"
   ]
  },
  {
   "cell_type": "code",
   "execution_count": 57,
   "id": "243213f4",
   "metadata": {},
   "outputs": [],
   "source": [
    "from sklearn.ensemble import RandomForestRegressor"
   ]
  },
  {
   "cell_type": "code",
   "execution_count": 58,
   "id": "a11f0ae7",
   "metadata": {},
   "outputs": [
    {
     "data": {
      "text/plain": [
       "RandomForestRegressor(max_depth=20, n_jobs=-1, random_state=12)"
      ]
     },
     "execution_count": 58,
     "metadata": {},
     "output_type": "execute_result"
    }
   ],
   "source": [
    "model = RandomForestRegressor(max_depth=20, n_jobs=-1,random_state=12)\n",
    "model.fit(X_train,y_train)"
   ]
  },
  {
   "cell_type": "code",
   "execution_count": 59,
   "id": "f94b41bb",
   "metadata": {},
   "outputs": [
    {
     "data": {
      "text/plain": [
       "0.09793552367850146"
      ]
     },
     "execution_count": 59,
     "metadata": {},
     "output_type": "execute_result"
    }
   ],
   "source": [
    "train_preds = model.predict(X_train)\n",
    "rmspe(y_train,train_preds)"
   ]
  },
  {
   "cell_type": "code",
   "execution_count": 60,
   "id": "de706aef",
   "metadata": {},
   "outputs": [
    {
     "data": {
      "text/plain": [
       "0.179902529737327"
      ]
     },
     "execution_count": 60,
     "metadata": {},
     "output_type": "execute_result"
    }
   ],
   "source": [
    "preds = model.predict(X_test)\n",
    "rmspe(y_test,preds)"
   ]
  },
  {
   "cell_type": "code",
   "execution_count": 61,
   "id": "ffaa2154",
   "metadata": {},
   "outputs": [
    {
     "data": {
      "text/plain": [
       "RandomForestRegressor(max_depth=20, n_jobs=-1, random_state=12)"
      ]
     },
     "execution_count": 61,
     "metadata": {},
     "output_type": "execute_result"
    }
   ],
   "source": [
    "model.fit(X_transformed,y)"
   ]
  },
  {
   "cell_type": "code",
   "execution_count": 62,
   "id": "dd6f3288",
   "metadata": {},
   "outputs": [],
   "source": [
    "preds = model.predict(x_test)"
   ]
  },
  {
   "cell_type": "code",
   "execution_count": 63,
   "id": "124394ca",
   "metadata": {},
   "outputs": [],
   "source": [
    "#Defining a new dataframe to contain the predictions according to the IDs.\n",
    "df_ypred = pd.DataFrame()\n",
    "df_ypred['Id'] = ids\n",
    "\n",
    "# Scale back the log of sales to sales.\n",
    "df_ypred['Sales'] = preds  # 0.983 is a correction factor.\n",
    "\n",
    "for i in range(len(df_ypred)):\n",
    "\n",
    "    id = df_ypred.iloc[i]['Id']\n",
    "    if id in closed_test_ids or b:\n",
    "        df_ypred.iloc[i]['Sales'] = 0\n",
    "    else:\n",
    "        continue\n",
    "\n",
    "#Sorting values according to ID\n",
    "df_ypred.sort_values('Id', inplace=True)\n",
    "df_ypred[['Id', 'Sales']].to_csv('predictions/rossmann_base_model.csv', index=False)"
   ]
  },
  {
   "cell_type": "markdown",
   "id": "ff9d71d2",
   "metadata": {},
   "source": [
    "# Models after adding new features that were generated without feature Selection"
   ]
  },
  {
   "cell_type": "code",
   "execution_count": 104,
   "id": "d003e6e3",
   "metadata": {},
   "outputs": [],
   "source": [
    "base_X = df_1.drop(['Sales','SalesLog','Open'],axis=1)\n",
    "y = df_1['Sales']"
   ]
  },
  {
   "cell_type": "code",
   "execution_count": 65,
   "id": "08b7b62e",
   "metadata": {},
   "outputs": [],
   "source": [
    "base_df = pd.concat([base_X,y])"
   ]
  },
  {
   "cell_type": "code",
   "execution_count": 66,
   "id": "284d4dc1",
   "metadata": {},
   "outputs": [],
   "source": [
    "base_test = df_test[base_X.columns]"
   ]
  },
  {
   "cell_type": "code",
   "execution_count": 68,
   "id": "53d64a61",
   "metadata": {},
   "outputs": [],
   "source": [
    "cat_cols = ['StoreType','Assortment','StateHoliday','DayOfWeek','Promo','Year','Promo2']\n",
    "num_cols = [i for i in base_X.columns if i not in cat_cols]\n",
    "\n",
    "num_transformer = Pipeline(steps = [('imp', IterativeImputer(initial_strategy='median')),\n",
    "                                    ('scaler', StandardScaler())])\n",
    "\n",
    "cat_transformer = Pipeline(steps = [('imp', SimpleImputer(strategy='most_frequent')),\n",
    "                                    ('onehot', OneHotEncoder(handle_unknown='ignore'))])\n",
    "\n",
    "preprocessor = ColumnTransformer(transformers=[('num', num_transformer,num_cols),\n",
    "                                               ('cat',cat_transformer,cat_cols)]) "
   ]
  },
  {
   "cell_type": "code",
   "execution_count": 69,
   "id": "3600396d",
   "metadata": {},
   "outputs": [
    {
     "data": {
      "text/plain": [
       "ColumnTransformer(transformers=[('num',\n",
       "                                 Pipeline(steps=[('imp',\n",
       "                                                  IterativeImputer(initial_strategy='median')),\n",
       "                                                 ('scaler', StandardScaler())]),\n",
       "                                 ['Store', 'SchoolHoliday',\n",
       "                                  'CompetitionDistance',\n",
       "                                  'CompetitionOpenSinceMonth',\n",
       "                                  'CompetitionOpenSinceYear', 'Promo2SinceWeek',\n",
       "                                  'Promo2SinceYear', 'Month', 'Day',\n",
       "                                  'WeekOfYear', 'DayOfYear',\n",
       "                                  'holiday_this_week', 'holiday_last_we...\n",
       "                                  'CustomerPerDay', 'SalesPerCustomerPerDay',\n",
       "                                  'CompetitionOpen', 'PromoOpen',\n",
       "                                  'PromoInterval0', 'PromoInterval1',\n",
       "                                  'PromoInterval2', 'PromoInterval3',\n",
       "                                  'Variation', ...]),\n",
       "                                ('cat',\n",
       "                                 Pipeline(steps=[('imp',\n",
       "                                                  SimpleImputer(strategy='most_frequent')),\n",
       "                                                 ('onehot',\n",
       "                                                  OneHotEncoder(handle_unknown='ignore'))]),\n",
       "                                 ['StoreType', 'Assortment', 'StateHoliday',\n",
       "                                  'DayOfWeek', 'Promo', 'Year', 'Promo2'])])"
      ]
     },
     "execution_count": 69,
     "metadata": {},
     "output_type": "execute_result"
    }
   ],
   "source": [
    "preprocessor.fit(base_X)"
   ]
  },
  {
   "cell_type": "code",
   "execution_count": 75,
   "id": "6b9b0869",
   "metadata": {},
   "outputs": [],
   "source": [
    "X_transformed = preprocessor.transform(base_X)\n",
    "X_submit = preprocessor.transform(base_test)"
   ]
  },
  {
   "cell_type": "code",
   "execution_count": 77,
   "id": "ff25ef3d",
   "metadata": {},
   "outputs": [
    {
     "data": {
      "text/plain": [
       "\"\\nimport pickle\\n\\nwith open('X_transformed','wb') as f:\\n    pickle.dump(X_transformed,f)\\n    \\nwith open('x_test','wb') as f:\\n    pickle.dump(X_submit,f)\\n\""
      ]
     },
     "execution_count": 77,
     "metadata": {},
     "output_type": "execute_result"
    }
   ],
   "source": [
    "'''\n",
    "import pickle\n",
    "\n",
    "with open('X_transformed','wb') as f:\n",
    "    pickle.dump(X_transformed,f)\n",
    "    \n",
    "with open('x_test','wb') as f:\n",
    "    pickle.dump(X_submit,f)\n",
    "'''"
   ]
  },
  {
   "cell_type": "markdown",
   "id": "1fb0f3e1",
   "metadata": {},
   "source": [
    "# Splitting the data into Train and Test (80:20)"
   ]
  },
  {
   "cell_type": "code",
   "execution_count": 78,
   "id": "4df4cccd",
   "metadata": {},
   "outputs": [],
   "source": [
    "X_transformed = pickle.load(open('X_transformed','rb'))\n",
    "x_submit = pickle.load(open('x_test','rb'))"
   ]
  },
  {
   "cell_type": "code",
   "execution_count": 79,
   "id": "94fd2a2f",
   "metadata": {},
   "outputs": [],
   "source": [
    "X_train, X_test, y_train, y_test = train_test_split(X_transformed,y,shuffle=False,\n",
    "                                random_state=12, test_size=0.2)"
   ]
  },
  {
   "cell_type": "code",
   "execution_count": 80,
   "id": "c262bd25",
   "metadata": {},
   "outputs": [
    {
     "name": "stdout",
     "output_type": "stream",
     "text": [
      "X_trian Shape :  (670352, 65)\n",
      "y_trian Shape :  (670352,)\n",
      "X_test Shape :  (167588, 65)\n",
      "y_test Shape :  (167588,)\n"
     ]
    }
   ],
   "source": [
    "print(\"X_trian Shape : \",X_train.shape)\n",
    "print(\"y_trian Shape : \",y_train.shape)\n",
    "print(\"X_test Shape : \",X_test.shape)\n",
    "print(\"y_test Shape : \",y_test.shape)"
   ]
  },
  {
   "cell_type": "markdown",
   "id": "e0d2475d",
   "metadata": {},
   "source": [
    "# Model 1: SGD Regressor"
   ]
  },
  {
   "cell_type": "code",
   "execution_count": 90,
   "id": "f21b4ed0",
   "metadata": {},
   "outputs": [
    {
     "data": {
      "text/plain": [
       "array([ 8402.78568913,  7676.05585063, 11617.36999675, ...,\n",
       "        9459.97604139,  5287.43844279,  8330.0965462 ])"
      ]
     },
     "execution_count": 90,
     "metadata": {},
     "output_type": "execute_result"
    }
   ],
   "source": [
    "from sklearn.linear_model import LinearRegression\n",
    "\n",
    "\n",
    "\n",
    "model = SGDRegressor(eta0=0.1, fit_intercept=False, shuffle=False, \n",
    "                    learning_rate='adaptive',random_state=12)\n",
    "\n",
    "model.fit(X_train,y_train)\n",
    "train_predictions = model.predict(X_train)\n",
    "test_predictions = model.predict(X_test)\n",
    "test_predictions"
   ]
  },
  {
   "cell_type": "code",
   "execution_count": 91,
   "id": "3cf5c979",
   "metadata": {},
   "outputs": [
    {
     "name": "stdout",
     "output_type": "stream",
     "text": [
      "RMSPE: Metric score for train set =  0.11952648505238313\n",
      "RMSPE: Metric score for test set =  0.1019799231473123\n"
     ]
    }
   ],
   "source": [
    "print(\"RMSPE: Metric score for train set = \",rmspe(y_train,train_predictions))\n",
    "print(\"RMSPE: Metric score for test set = \",rmspe(y_test,test_predictions))"
   ]
  },
  {
   "cell_type": "markdown",
   "id": "bd2be172",
   "metadata": {},
   "source": [
    "### Hyper-parameter Tunning for SGD Regressor\n"
   ]
  },
  {
   "cell_type": "code",
   "execution_count": null,
   "id": "df42cf18",
   "metadata": {},
   "outputs": [],
   "source": [
    "model = SGDRegressor()\n",
    "param_grid = {\n",
    "    'alpha': 10.0 ** -np.arange(1, 4),\n",
    "    'loss': ['squared_loss'],\n",
    "    'penalty': ['l2'],\n",
    "    'learning_rate': ['constant', 'optimal','adaptive'],\n",
    "}\n",
    "clf = RandomizedSearchCV(model, param_grid)\n",
    "clf.fit(X_train, y_train)"
   ]
  },
  {
   "cell_type": "code",
   "execution_count": null,
   "id": "0024c595",
   "metadata": {},
   "outputs": [],
   "source": [
    "print(clf.best_params_)"
   ]
  },
  {
   "cell_type": "code",
   "execution_count": 92,
   "id": "b0189e8e",
   "metadata": {},
   "outputs": [
    {
     "data": {
      "text/plain": [
       "array([ 8402.78568913,  7676.05585063, 11617.36999675, ...,\n",
       "        9459.97604139,  5287.43844279,  8330.0965462 ])"
      ]
     },
     "execution_count": 92,
     "metadata": {},
     "output_type": "execute_result"
    }
   ],
   "source": [
    "model = SGDRegressor(eta0=0.1, fit_intercept=False, shuffle=False, \n",
    "                    learning_rate='adaptive',random_state=12)\n",
    "\n",
    "model.fit(X_train,y_train)\n",
    "train_predictions = model.predict(X_train)\n",
    "test_predictions = model.predict(X_test)\n",
    "test_predictions"
   ]
  },
  {
   "cell_type": "code",
   "execution_count": 93,
   "id": "cac42c67",
   "metadata": {},
   "outputs": [
    {
     "name": "stdout",
     "output_type": "stream",
     "text": [
      "SGD Regressor - RMSPE: Metric score for train set =  0.11952648505238313\n",
      "SGD Regressor - RMSPE: Metric score for test set =  0.1019799231473123\n"
     ]
    }
   ],
   "source": [
    "print(\"SGD Regressor - RMSPE: Metric score for train set = \",rmspe(y_train,train_predictions))\n",
    "print(\"SGD Regressor - RMSPE: Metric score for test set = \",rmspe(y_test,test_predictions))"
   ]
  },
  {
   "cell_type": "code",
   "execution_count": 94,
   "id": "a446dc73",
   "metadata": {},
   "outputs": [],
   "source": [
    "model.fit(X_transformed,y)\n",
    "preds = model.predict(X_submit)"
   ]
  },
  {
   "cell_type": "code",
   "execution_count": 96,
   "id": "21d0e445",
   "metadata": {},
   "outputs": [],
   "source": [
    "#Defining a new dataframe to contain the predictions according to the IDs.\n",
    "df_ypred = pd.DataFrame()\n",
    "df_ypred['Id'] = ids\n",
    "\n",
    "# Scale back the log of sales to sales.\n",
    "df_ypred['Sales'] = preds  \n",
    "\n",
    "for i in range(len(df_ypred)):\n",
    "\n",
    "    id = df_ypred.iloc[i]['Id']\n",
    "    if id in closed_test_ids or b:\n",
    "        df_ypred.iloc[i]['Sales'] = 0\n",
    "    else:\n",
    "        continue\n",
    "\n",
    "#Sorting values according to ID\n",
    "df_ypred.sort_values('Id', inplace=True)\n",
    "df_ypred[['Id', 'Sales']].to_csv('predictions/rossmann_sgd.csv', index=False)"
   ]
  },
  {
   "cell_type": "markdown",
   "id": "93d777ab",
   "metadata": {},
   "source": [
    "# Model 2 : Random Forest Model "
   ]
  },
  {
   "cell_type": "code",
   "execution_count": 99,
   "id": "8d24472c",
   "metadata": {},
   "outputs": [
    {
     "name": "stdout",
     "output_type": "stream",
     "text": [
      "{'n_estimators': 500, 'min_samples_split': 8, 'min_samples_leaf': 3, 'max_depth': 80}\n"
     ]
    }
   ],
   "source": [
    "# Create the parameter grid based on the results of random search \n",
    "model = RandomForestRegressor()\n",
    "param_grid_rf = {\n",
    "    'max_depth': [80, 90, 100 ],\n",
    "    'min_samples_leaf': [3, 4, 5],\n",
    "    'min_samples_split': [8, 10, 12],\n",
    "    'n_estimators': [100, 200, 300, 500]\n",
    "}\n",
    "\n",
    "#Instantiate the grid search model\n",
    "random_search = RandomizedSearchCV(model,param_grid_rf, \n",
    "                          cv = 2, n_jobs = 8)\n",
    "\n",
    "random_search.fit(X_train,y_train)\n",
    "print(random_search.best_params_)"
   ]
  },
  {
   "cell_type": "code",
   "execution_count": 100,
   "id": "3a486dd4",
   "metadata": {},
   "outputs": [
    {
     "data": {
      "text/plain": [
       "array([ 8389.25472989,  7954.46749704, 12570.98026583, ...,\n",
       "       10389.70077573,  5355.09973659,  9263.2452138 ])"
      ]
     },
     "execution_count": 100,
     "metadata": {},
     "output_type": "execute_result"
    }
   ],
   "source": [
    "# Training the model with Best Hyper-parameters\n",
    "model = RandomForestRegressor(n_estimators=500, max_depth=80,n_jobs=-1,min_samples_leaf=3,random_state=12,min_samples_split=8)\n",
    "model.fit(X_train,y_train)\n",
    "\n",
    "train_predictions = model.predict(X_train)\n",
    "test_predicitions = model.predict(X_test)\n",
    "test_predicitions"
   ]
  },
  {
   "cell_type": "code",
   "execution_count": 101,
   "id": "1ae1e783",
   "metadata": {},
   "outputs": [
    {
     "name": "stdout",
     "output_type": "stream",
     "text": [
      "Random Forest - RMSPE: Metric score for train set =  0.07499194085907833\n",
      "Random Forest - RMSPE: Metric score for test set =  0.1019799231473123\n"
     ]
    }
   ],
   "source": [
    "print(\"Random Forest - RMSPE: Metric score for train set = \",rmspe(y_train,train_predictions))\n",
    "print(\"Random Forest - RMSPE: Metric score for test set = \",rmspe(y_test,test_predictions))"
   ]
  },
  {
   "cell_type": "code",
   "execution_count": 102,
   "id": "f64a1f6a",
   "metadata": {},
   "outputs": [],
   "source": [
    "model.fit(X_transformed,y)\n",
    "preds = model.predict(X_submit)"
   ]
  },
  {
   "cell_type": "code",
   "execution_count": 103,
   "id": "a3377b2f",
   "metadata": {},
   "outputs": [],
   "source": [
    "#Defining a new dataframe to contain the predictions according to the IDs.\n",
    "df_ypred = pd.DataFrame()\n",
    "df_ypred['Id'] = ids\n",
    "\n",
    "# Scale back the log of sales to sales.\n",
    "df_ypred['Sales'] = preds  \n",
    "\n",
    "for i in range(len(df_ypred)):\n",
    "\n",
    "    id = df_ypred.iloc[i]['Id']\n",
    "    if id in closed_test_ids or b:\n",
    "        df_ypred.iloc[i]['Sales'] = 0\n",
    "    else:\n",
    "        continue\n",
    "\n",
    "#Sorting values according to ID\n",
    "df_ypred.sort_values('Id', inplace=True)\n",
    "df_ypred[['Id', 'Sales']].to_csv('predictions/rossmann_RF.csv', index=False)"
   ]
  },
  {
   "cell_type": "markdown",
   "id": "7bfa6eea",
   "metadata": {},
   "source": [
    "# Model 3 : XGBoost "
   ]
  },
  {
   "cell_type": "code",
   "execution_count": 37,
   "id": "f23ad971",
   "metadata": {},
   "outputs": [
    {
     "name": "stdout",
     "output_type": "stream",
     "text": [
      "Fitting 2 folds for each of 10 candidates, totalling 20 fits\n",
      "[18:25:49] WARNING: C:/Users/Administrator/workspace/xgboost-win64_release_1.5.1/src/objective/regression_obj.cu:188: reg:linear is now deprecated in favor of reg:squarederror.\n",
      "[18:25:49] WARNING: C:/Users/Administrator/workspace/xgboost-win64_release_1.5.1/src/learner.cc:576: \n",
      "Parameters: { \"silent\" } might not be used.\n",
      "\n",
      "  This could be a false alarm, with some parameters getting used by language bindings but\n",
      "  then being mistakenly passed down to XGBoost core, or some parameter actually being used\n",
      "  but getting flagged wrongly here. Please open an issue if you find any such cases.\n",
      "\n",
      "\n",
      "0.9716622665820336\n",
      "{'subsample': 0.7, 'silent': 1, 'objective': 'reg:linear', 'n_estimators': 500, 'min_child_weight': 4, 'max_depth': 10, 'learning_rate': 0.05, 'colsample_bytree': 0.7}\n"
     ]
    }
   ],
   "source": [
    "from xgboost.sklearn import XGBRegressor\n",
    "\n",
    "# Hyper-parameter Tunning \n",
    "xgb = XGBRegressor()\n",
    "parameters = { \n",
    "              'objective':['reg:linear'],\n",
    "              'learning_rate': [.03, 0.05, .07],\n",
    "              'max_depth': [5, 6 ,7 ,10],\n",
    "              'min_child_weight': [4],\n",
    "              'silent': [1],\n",
    "              'subsample': [0.7],\n",
    "              'colsample_bytree': [0.7],\n",
    "              'n_estimators': [500 ]}\n",
    "\n",
    "xgb_grid = RandomizedSearchCV(xgb,\n",
    "                        parameters,\n",
    "                        cv = 2,\n",
    "                        n_jobs = 8,\n",
    "                        verbose=True)\n",
    "\n",
    "xgb_grid.fit(X_train,y_train)\n",
    "\n",
    "print(xgb_grid.best_score_)\n",
    "print(xgb_grid.best_params_)"
   ]
  },
  {
   "cell_type": "code",
   "execution_count": 81,
   "id": "0dec94a4",
   "metadata": {},
   "outputs": [
    {
     "data": {
      "text/plain": [
       "array([ 8271.266 ,  7979.078 , 12458.1875, ..., 10286.658 ,  5657.482 ,\n",
       "        8967.198 ], dtype=float32)"
      ]
     },
     "execution_count": 81,
     "metadata": {},
     "output_type": "execute_result"
    }
   ],
   "source": [
    "from xgboost.sklearn import XGBRegressor\n",
    "\n",
    "xgb_model = XGBRegressor(n_estimators=500,\n",
    "                         max_depth=10,\n",
    "                         learning_rate=0.05,\n",
    "                         min_child_weight = 4,\n",
    "                         n_jobs=-1)\n",
    "xgb_model.fit(X_train,y_train)\n",
    "\n",
    "train_predictions = xgb_model.predict(X_train)\n",
    "test_predicitions = xgb_model.predict(X_test)\n",
    "test_predicitions"
   ]
  },
  {
   "cell_type": "code",
   "execution_count": 87,
   "id": "62f185ca",
   "metadata": {},
   "outputs": [
    {
     "name": "stdout",
     "output_type": "stream",
     "text": [
      "XGBoost - RMSPE: Metric score for train set =  0.04336950533090824\n",
      "XGBoost - RMSPE: Metric score for test set =  0.0714714804074702\n"
     ]
    }
   ],
   "source": [
    "print(\"XGBoost - RMSPE: Metric score for train set = \",rmspe(y_train,train_predictions))\n",
    "print(\"XGBoost - RMSPE: Metric score for test set = \",rmspe(y_test,test_predicitions))"
   ]
  },
  {
   "cell_type": "code",
   "execution_count": 88,
   "id": "b2e85dd1",
   "metadata": {},
   "outputs": [],
   "source": [
    "model.fit(X_transformed,y)\n",
    "preds = model.predict(X_submit)"
   ]
  },
  {
   "cell_type": "code",
   "execution_count": 89,
   "id": "6113e3ef",
   "metadata": {},
   "outputs": [],
   "source": [
    "#Defining a new dataframe to contain the predictions according to the IDs.\n",
    "df_ypred = pd.DataFrame()\n",
    "df_ypred['Id'] = ids\n",
    "\n",
    "# Scale back the log of sales to sales.\n",
    "df_ypred['Sales'] = preds  \n",
    "\n",
    "for i in range(len(df_ypred)):\n",
    "\n",
    "    id = df_ypred.iloc[i]['Id']\n",
    "    if id in closed_test_ids or b:\n",
    "        df_ypred.iloc[i]['Sales'] = 0\n",
    "    else:\n",
    "        continue\n",
    "\n",
    "#Sorting values according to ID\n",
    "df_ypred.sort_values('Id', inplace=True)\n",
    "df_ypred[['Id', 'Sales']].to_csv('predictions/rossmann_xgboost.csv', index=False)"
   ]
  },
  {
   "cell_type": "markdown",
   "id": "c7a2c192",
   "metadata": {},
   "source": [
    "# Models after adding new features that were generated after feature Selection"
   ]
  },
  {
   "cell_type": "code",
   "execution_count": 109,
   "id": "bd80451e",
   "metadata": {},
   "outputs": [
    {
     "data": {
      "text/html": [
       "<div>\n",
       "<style scoped>\n",
       "    .dataframe tbody tr th:only-of-type {\n",
       "        vertical-align: middle;\n",
       "    }\n",
       "\n",
       "    .dataframe tbody tr th {\n",
       "        vertical-align: top;\n",
       "    }\n",
       "\n",
       "    .dataframe thead th {\n",
       "        text-align: right;\n",
       "    }\n",
       "</style>\n",
       "<table border=\"1\" class=\"dataframe\">\n",
       "  <thead>\n",
       "    <tr style=\"text-align: right;\">\n",
       "      <th></th>\n",
       "      <th>Store</th>\n",
       "      <th>DayOfWeek</th>\n",
       "      <th>Promo</th>\n",
       "      <th>StateHoliday</th>\n",
       "      <th>SchoolHoliday</th>\n",
       "      <th>StoreType</th>\n",
       "      <th>Assortment</th>\n",
       "      <th>CompetitionDistance</th>\n",
       "      <th>CompetitionOpenSinceMonth</th>\n",
       "      <th>CompetitionOpenSinceYear</th>\n",
       "      <th>...</th>\n",
       "      <th>Acceleration</th>\n",
       "      <th>Weekly_rolling_mean</th>\n",
       "      <th>Monthly_rolling_mean</th>\n",
       "      <th>Previous_quarter_median</th>\n",
       "      <th>Previous_half_year_median</th>\n",
       "      <th>Median_over_day_of_week</th>\n",
       "      <th>Frequency_2</th>\n",
       "      <th>Frequency_3</th>\n",
       "      <th>Amplitude_2</th>\n",
       "      <th>Amplitude_3</th>\n",
       "    </tr>\n",
       "  </thead>\n",
       "  <tbody>\n",
       "    <tr>\n",
       "      <th>542</th>\n",
       "      <td>85</td>\n",
       "      <td>2</td>\n",
       "      <td>0</td>\n",
       "      <td>a</td>\n",
       "      <td>1</td>\n",
       "      <td>b</td>\n",
       "      <td>a</td>\n",
       "      <td>1870.0</td>\n",
       "      <td>10.0</td>\n",
       "      <td>2011.0</td>\n",
       "      <td>...</td>\n",
       "      <td>NaN</td>\n",
       "      <td>NaN</td>\n",
       "      <td>NaN</td>\n",
       "      <td>NaN</td>\n",
       "      <td>NaN</td>\n",
       "      <td>6746.0</td>\n",
       "      <td>-0.005612</td>\n",
       "      <td>0.113356</td>\n",
       "      <td>167823.404310</td>\n",
       "      <td>151474.773924</td>\n",
       "    </tr>\n",
       "    <tr>\n",
       "      <th>2753</th>\n",
       "      <td>423</td>\n",
       "      <td>2</td>\n",
       "      <td>0</td>\n",
       "      <td>a</td>\n",
       "      <td>1</td>\n",
       "      <td>b</td>\n",
       "      <td>a</td>\n",
       "      <td>1270.0</td>\n",
       "      <td>5.0</td>\n",
       "      <td>2014.0</td>\n",
       "      <td>...</td>\n",
       "      <td>NaN</td>\n",
       "      <td>NaN</td>\n",
       "      <td>NaN</td>\n",
       "      <td>NaN</td>\n",
       "      <td>NaN</td>\n",
       "      <td>10195.0</td>\n",
       "      <td>-0.119658</td>\n",
       "      <td>-0.227564</td>\n",
       "      <td>365705.744312</td>\n",
       "      <td>247568.075518</td>\n",
       "    </tr>\n",
       "    <tr>\n",
       "      <th>7175</th>\n",
       "      <td>1097</td>\n",
       "      <td>2</td>\n",
       "      <td>0</td>\n",
       "      <td>a</td>\n",
       "      <td>1</td>\n",
       "      <td>b</td>\n",
       "      <td>b</td>\n",
       "      <td>720.0</td>\n",
       "      <td>3.0</td>\n",
       "      <td>2002.0</td>\n",
       "      <td>...</td>\n",
       "      <td>NaN</td>\n",
       "      <td>NaN</td>\n",
       "      <td>NaN</td>\n",
       "      <td>NaN</td>\n",
       "      <td>NaN</td>\n",
       "      <td>9443.0</td>\n",
       "      <td>-0.119914</td>\n",
       "      <td>-0.001071</td>\n",
       "      <td>284199.318582</td>\n",
       "      <td>248669.925246</td>\n",
       "    </tr>\n",
       "    <tr>\n",
       "      <th>1693</th>\n",
       "      <td>262</td>\n",
       "      <td>2</td>\n",
       "      <td>0</td>\n",
       "      <td>a</td>\n",
       "      <td>1</td>\n",
       "      <td>b</td>\n",
       "      <td>a</td>\n",
       "      <td>1180.0</td>\n",
       "      <td>5.0</td>\n",
       "      <td>2013.0</td>\n",
       "      <td>...</td>\n",
       "      <td>NaN</td>\n",
       "      <td>NaN</td>\n",
       "      <td>NaN</td>\n",
       "      <td>NaN</td>\n",
       "      <td>NaN</td>\n",
       "      <td>18856.0</td>\n",
       "      <td>-0.123333</td>\n",
       "      <td>0.124444</td>\n",
       "      <td>444458.857440</td>\n",
       "      <td>344153.269707</td>\n",
       "    </tr>\n",
       "    <tr>\n",
       "      <th>3343</th>\n",
       "      <td>512</td>\n",
       "      <td>2</td>\n",
       "      <td>0</td>\n",
       "      <td>a</td>\n",
       "      <td>1</td>\n",
       "      <td>b</td>\n",
       "      <td>b</td>\n",
       "      <td>590.0</td>\n",
       "      <td>NaN</td>\n",
       "      <td>NaN</td>\n",
       "      <td>...</td>\n",
       "      <td>NaN</td>\n",
       "      <td>NaN</td>\n",
       "      <td>NaN</td>\n",
       "      <td>NaN</td>\n",
       "      <td>NaN</td>\n",
       "      <td>5174.5</td>\n",
       "      <td>0.001357</td>\n",
       "      <td>-0.005427</td>\n",
       "      <td>241086.454067</td>\n",
       "      <td>101319.181792</td>\n",
       "    </tr>\n",
       "    <tr>\n",
       "      <th>...</th>\n",
       "      <td>...</td>\n",
       "      <td>...</td>\n",
       "      <td>...</td>\n",
       "      <td>...</td>\n",
       "      <td>...</td>\n",
       "      <td>...</td>\n",
       "      <td>...</td>\n",
       "      <td>...</td>\n",
       "      <td>...</td>\n",
       "      <td>...</td>\n",
       "      <td>...</td>\n",
       "      <td>...</td>\n",
       "      <td>...</td>\n",
       "      <td>...</td>\n",
       "      <td>...</td>\n",
       "      <td>...</td>\n",
       "      <td>...</td>\n",
       "      <td>...</td>\n",
       "      <td>...</td>\n",
       "      <td>...</td>\n",
       "      <td>...</td>\n",
       "    </tr>\n",
       "    <tr>\n",
       "      <th>836274</th>\n",
       "      <td>555</td>\n",
       "      <td>5</td>\n",
       "      <td>1</td>\n",
       "      <td>0</td>\n",
       "      <td>0</td>\n",
       "      <td>d</td>\n",
       "      <td>a</td>\n",
       "      <td>1560.0</td>\n",
       "      <td>1.0</td>\n",
       "      <td>2014.0</td>\n",
       "      <td>...</td>\n",
       "      <td>990.0</td>\n",
       "      <td>5544.000000</td>\n",
       "      <td>5110.966667</td>\n",
       "      <td>NaN</td>\n",
       "      <td>NaN</td>\n",
       "      <td>5211.5</td>\n",
       "      <td>0.012966</td>\n",
       "      <td>-0.001621</td>\n",
       "      <td>122518.613818</td>\n",
       "      <td>115656.305525</td>\n",
       "    </tr>\n",
       "    <tr>\n",
       "      <th>836271</th>\n",
       "      <td>554</td>\n",
       "      <td>5</td>\n",
       "      <td>1</td>\n",
       "      <td>0</td>\n",
       "      <td>1</td>\n",
       "      <td>c</td>\n",
       "      <td>c</td>\n",
       "      <td>1200.0</td>\n",
       "      <td>NaN</td>\n",
       "      <td>NaN</td>\n",
       "      <td>...</td>\n",
       "      <td>-2014.0</td>\n",
       "      <td>5921.714286</td>\n",
       "      <td>5576.366667</td>\n",
       "      <td>NaN</td>\n",
       "      <td>NaN</td>\n",
       "      <td>4251.0</td>\n",
       "      <td>-0.001279</td>\n",
       "      <td>0.002558</td>\n",
       "      <td>205489.223714</td>\n",
       "      <td>135516.126659</td>\n",
       "    </tr>\n",
       "    <tr>\n",
       "      <th>836268</th>\n",
       "      <td>553</td>\n",
       "      <td>5</td>\n",
       "      <td>1</td>\n",
       "      <td>0</td>\n",
       "      <td>1</td>\n",
       "      <td>c</td>\n",
       "      <td>a</td>\n",
       "      <td>3040.0</td>\n",
       "      <td>9.0</td>\n",
       "      <td>2002.0</td>\n",
       "      <td>...</td>\n",
       "      <td>848.0</td>\n",
       "      <td>8854.714286</td>\n",
       "      <td>7774.066667</td>\n",
       "      <td>NaN</td>\n",
       "      <td>NaN</td>\n",
       "      <td>6891.0</td>\n",
       "      <td>-0.006460</td>\n",
       "      <td>0.002584</td>\n",
       "      <td>185328.222141</td>\n",
       "      <td>147038.581368</td>\n",
       "    </tr>\n",
       "    <tr>\n",
       "      <th>836299</th>\n",
       "      <td>563</td>\n",
       "      <td>5</td>\n",
       "      <td>1</td>\n",
       "      <td>0</td>\n",
       "      <td>1</td>\n",
       "      <td>a</td>\n",
       "      <td>a</td>\n",
       "      <td>700.0</td>\n",
       "      <td>3.0</td>\n",
       "      <td>2015.0</td>\n",
       "      <td>...</td>\n",
       "      <td>631.0</td>\n",
       "      <td>4323.285714</td>\n",
       "      <td>4437.200000</td>\n",
       "      <td>NaN</td>\n",
       "      <td>NaN</td>\n",
       "      <td>5040.0</td>\n",
       "      <td>0.003942</td>\n",
       "      <td>0.006570</td>\n",
       "      <td>176672.227334</td>\n",
       "      <td>167181.119424</td>\n",
       "    </tr>\n",
       "    <tr>\n",
       "      <th>837939</th>\n",
       "      <td>1115</td>\n",
       "      <td>5</td>\n",
       "      <td>1</td>\n",
       "      <td>0</td>\n",
       "      <td>1</td>\n",
       "      <td>d</td>\n",
       "      <td>c</td>\n",
       "      <td>5350.0</td>\n",
       "      <td>NaN</td>\n",
       "      <td>NaN</td>\n",
       "      <td>...</td>\n",
       "      <td>744.0</td>\n",
       "      <td>8037.714286</td>\n",
       "      <td>7195.966667</td>\n",
       "      <td>NaN</td>\n",
       "      <td>NaN</td>\n",
       "      <td>6107.0</td>\n",
       "      <td>0.001284</td>\n",
       "      <td>-0.006418</td>\n",
       "      <td>228954.222768</td>\n",
       "      <td>214196.009547</td>\n",
       "    </tr>\n",
       "  </tbody>\n",
       "</table>\n",
       "<p>837940 rows × 47 columns</p>\n",
       "</div>"
      ],
      "text/plain": [
       "        Store  DayOfWeek  Promo StateHoliday  SchoolHoliday StoreType  \\\n",
       "542        85          2      0            a              1         b   \n",
       "2753      423          2      0            a              1         b   \n",
       "7175     1097          2      0            a              1         b   \n",
       "1693      262          2      0            a              1         b   \n",
       "3343      512          2      0            a              1         b   \n",
       "...       ...        ...    ...          ...            ...       ...   \n",
       "836274    555          5      1            0              0         d   \n",
       "836271    554          5      1            0              1         c   \n",
       "836268    553          5      1            0              1         c   \n",
       "836299    563          5      1            0              1         a   \n",
       "837939   1115          5      1            0              1         d   \n",
       "\n",
       "       Assortment  CompetitionDistance  CompetitionOpenSinceMonth  \\\n",
       "542             a               1870.0                       10.0   \n",
       "2753            a               1270.0                        5.0   \n",
       "7175            b                720.0                        3.0   \n",
       "1693            a               1180.0                        5.0   \n",
       "3343            b                590.0                        NaN   \n",
       "...           ...                  ...                        ...   \n",
       "836274          a               1560.0                        1.0   \n",
       "836271          c               1200.0                        NaN   \n",
       "836268          a               3040.0                        9.0   \n",
       "836299          a                700.0                        3.0   \n",
       "837939          c               5350.0                        NaN   \n",
       "\n",
       "        CompetitionOpenSinceYear  ...  Acceleration  Weekly_rolling_mean  \\\n",
       "542                       2011.0  ...           NaN                  NaN   \n",
       "2753                      2014.0  ...           NaN                  NaN   \n",
       "7175                      2002.0  ...           NaN                  NaN   \n",
       "1693                      2013.0  ...           NaN                  NaN   \n",
       "3343                         NaN  ...           NaN                  NaN   \n",
       "...                          ...  ...           ...                  ...   \n",
       "836274                    2014.0  ...         990.0          5544.000000   \n",
       "836271                       NaN  ...       -2014.0          5921.714286   \n",
       "836268                    2002.0  ...         848.0          8854.714286   \n",
       "836299                    2015.0  ...         631.0          4323.285714   \n",
       "837939                       NaN  ...         744.0          8037.714286   \n",
       "\n",
       "        Monthly_rolling_mean  Previous_quarter_median  \\\n",
       "542                      NaN                      NaN   \n",
       "2753                     NaN                      NaN   \n",
       "7175                     NaN                      NaN   \n",
       "1693                     NaN                      NaN   \n",
       "3343                     NaN                      NaN   \n",
       "...                      ...                      ...   \n",
       "836274           5110.966667                      NaN   \n",
       "836271           5576.366667                      NaN   \n",
       "836268           7774.066667                      NaN   \n",
       "836299           4437.200000                      NaN   \n",
       "837939           7195.966667                      NaN   \n",
       "\n",
       "        Previous_half_year_median  Median_over_day_of_week  Frequency_2  \\\n",
       "542                           NaN                   6746.0    -0.005612   \n",
       "2753                          NaN                  10195.0    -0.119658   \n",
       "7175                          NaN                   9443.0    -0.119914   \n",
       "1693                          NaN                  18856.0    -0.123333   \n",
       "3343                          NaN                   5174.5     0.001357   \n",
       "...                           ...                      ...          ...   \n",
       "836274                        NaN                   5211.5     0.012966   \n",
       "836271                        NaN                   4251.0    -0.001279   \n",
       "836268                        NaN                   6891.0    -0.006460   \n",
       "836299                        NaN                   5040.0     0.003942   \n",
       "837939                        NaN                   6107.0     0.001284   \n",
       "\n",
       "        Frequency_3    Amplitude_2    Amplitude_3  \n",
       "542        0.113356  167823.404310  151474.773924  \n",
       "2753      -0.227564  365705.744312  247568.075518  \n",
       "7175      -0.001071  284199.318582  248669.925246  \n",
       "1693       0.124444  444458.857440  344153.269707  \n",
       "3343      -0.005427  241086.454067  101319.181792  \n",
       "...             ...            ...            ...  \n",
       "836274    -0.001621  122518.613818  115656.305525  \n",
       "836271     0.002558  205489.223714  135516.126659  \n",
       "836268     0.002584  185328.222141  147038.581368  \n",
       "836299     0.006570  176672.227334  167181.119424  \n",
       "837939    -0.006418  228954.222768  214196.009547  \n",
       "\n",
       "[837940 rows x 47 columns]"
      ]
     },
     "execution_count": 109,
     "metadata": {},
     "output_type": "execute_result"
    }
   ],
   "source": [
    "base_X"
   ]
  },
  {
   "cell_type": "code",
   "execution_count": 118,
   "id": "d325a8f6",
   "metadata": {},
   "outputs": [
    {
     "data": {
      "text/plain": [
       "['StateHoliday', 'StoreType', 'Assortment']"
      ]
     },
     "execution_count": 118,
     "metadata": {},
     "output_type": "execute_result"
    }
   ],
   "source": [
    "base_X.select_dtypes(exclude=['int','float']).columns.tolist()"
   ]
  },
  {
   "cell_type": "code",
   "execution_count": 54,
   "id": "75fe1fcb",
   "metadata": {},
   "outputs": [],
   "source": [
    "numeric_cols = ['Store',\n",
    " 'DayOfWeek',\n",
    " 'Promo',\n",
    " 'SchoolHoliday',\n",
    " 'Promo2',\n",
    " 'Year',\n",
    " 'Month',\n",
    " 'Day',\n",
    " 'WeekOfYear',\n",
    " 'DayOfYear',\n",
    " 'holiday_this_week',\n",
    " 'State_holiday_before_days',\n",
    " 'State_holiday_after_days',\n",
    " 'Promo_before_days',\n",
    " 'Promo_after_days',\n",
    " 'School_Holiday_before_days',\n",
    " 'School_Holiday_after_days',\n",
    " 'CustomerPerDay',\n",
    "  'CompetitionDistance',\n",
    " 'CompetitionOpenSinceMonth',\n",
    " 'CompetitionOpenSinceYear',\n",
    " 'Promo2SinceWeek',\n",
    " 'Promo2SinceYear',\n",
    " 'holiday_last_week',\n",
    " 'holiday_next_week',\n",
    " 'SalesPerDay',\n",
    " 'SalesPerCustomerPerDay',\n",
    " 'CompetitionOpen',\n",
    " 'PromoOpen',\n",
    " 'PromoInterval0',\n",
    " 'PromoInterval1',\n",
    " 'PromoInterval2',\n",
    " 'PromoInterval3',\n",
    " 'Variation',\n",
    " 'Acceleration',\n",
    " 'Weekly_rolling_mean',\n",
    " 'Monthly_rolling_mean',\n",
    " 'Previous_quarter_median',\n",
    " 'Previous_half_year_median',\n",
    " 'Median_over_day_of_week',\n",
    " 'Frequency_2',\n",
    " 'Frequency_3',\n",
    " 'Amplitude_2',\n",
    " 'Amplitude_3']"
   ]
  },
  {
   "cell_type": "code",
   "execution_count": 55,
   "id": "a8c9f0a7",
   "metadata": {},
   "outputs": [],
   "source": [
    "categorical_cols = ['StateHoliday', 'StoreType', 'Assortment']"
   ]
  },
  {
   "cell_type": "code",
   "execution_count": 120,
   "id": "2097e389",
   "metadata": {},
   "outputs": [
    {
     "data": {
      "text/plain": [
       "(47,)"
      ]
     },
     "execution_count": 120,
     "metadata": {},
     "output_type": "execute_result"
    }
   ],
   "source": [
    "base_X.columns.shape"
   ]
  },
  {
   "cell_type": "code",
   "execution_count": 123,
   "id": "8d3dd5c5",
   "metadata": {},
   "outputs": [
    {
     "data": {
      "text/plain": [
       "44"
      ]
     },
     "execution_count": 123,
     "metadata": {},
     "output_type": "execute_result"
    }
   ],
   "source": [
    "len(numeric_cols)"
   ]
  },
  {
   "cell_type": "code",
   "execution_count": 124,
   "id": "cc006624",
   "metadata": {},
   "outputs": [
    {
     "data": {
      "text/plain": [
       "3"
      ]
     },
     "execution_count": 124,
     "metadata": {},
     "output_type": "execute_result"
    }
   ],
   "source": [
    "len(categorical_cols)"
   ]
  },
  {
   "cell_type": "code",
   "execution_count": null,
   "id": "0f18d8f3",
   "metadata": {},
   "outputs": [],
   "source": [
    "# Handing Missinng and Scaling Numerical data\n",
    "base_numeric = base_X[numeric_cols]\n",
    "\n",
    "# Impute training data\n",
    "imputer = IterativeImputer(initial_strategy='median')\n",
    "X_train_imputed = imputer.fit_transform(base_numeric)\n",
    "\n",
    "# Encode training data\n",
    "scaler = StandardScaler()\n",
    "X_encoded_numeric = scaler.fit_transform(X_train_imputed)\n"
   ]
  },
  {
   "cell_type": "code",
   "execution_count": 141,
   "id": "7676863f",
   "metadata": {},
   "outputs": [],
   "source": [
    "scaled_numeric_df = pd.DataFrame(X_encoded_numeric, columns = base_numeric.columns)"
   ]
  },
  {
   "cell_type": "code",
   "execution_count": 142,
   "id": "cbf1a5da",
   "metadata": {},
   "outputs": [
    {
     "data": {
      "text/html": [
       "<div>\n",
       "<style scoped>\n",
       "    .dataframe tbody tr th:only-of-type {\n",
       "        vertical-align: middle;\n",
       "    }\n",
       "\n",
       "    .dataframe tbody tr th {\n",
       "        vertical-align: top;\n",
       "    }\n",
       "\n",
       "    .dataframe thead th {\n",
       "        text-align: right;\n",
       "    }\n",
       "</style>\n",
       "<table border=\"1\" class=\"dataframe\">\n",
       "  <thead>\n",
       "    <tr style=\"text-align: right;\">\n",
       "      <th></th>\n",
       "      <th>Store</th>\n",
       "      <th>DayOfWeek</th>\n",
       "      <th>Promo</th>\n",
       "      <th>SchoolHoliday</th>\n",
       "      <th>Promo2</th>\n",
       "      <th>Year</th>\n",
       "      <th>Month</th>\n",
       "      <th>Day</th>\n",
       "      <th>WeekOfYear</th>\n",
       "      <th>DayOfYear</th>\n",
       "      <th>...</th>\n",
       "      <th>Acceleration</th>\n",
       "      <th>Weekly_rolling_mean</th>\n",
       "      <th>Monthly_rolling_mean</th>\n",
       "      <th>Previous_quarter_median</th>\n",
       "      <th>Previous_half_year_median</th>\n",
       "      <th>Median_over_day_of_week</th>\n",
       "      <th>Frequency_2</th>\n",
       "      <th>Frequency_3</th>\n",
       "      <th>Amplitude_2</th>\n",
       "      <th>Amplitude_3</th>\n",
       "    </tr>\n",
       "  </thead>\n",
       "  <tbody>\n",
       "    <tr>\n",
       "      <th>0</th>\n",
       "      <td>-1.471732</td>\n",
       "      <td>-0.891015</td>\n",
       "      <td>-0.894026</td>\n",
       "      <td>2.045802</td>\n",
       "      <td>-0.997333</td>\n",
       "      <td>-1.071442</td>\n",
       "      <td>-1.457484</td>\n",
       "      <td>-1.707320</td>\n",
       "      <td>-1.574384</td>\n",
       "      <td>-1.592406</td>\n",
       "      <td>...</td>\n",
       "      <td>-0.238967</td>\n",
       "      <td>0.160205</td>\n",
       "      <td>-0.095660</td>\n",
       "      <td>0.210221</td>\n",
       "      <td>0.151726</td>\n",
       "      <td>-0.065961</td>\n",
       "      <td>-0.016845</td>\n",
       "      <td>0.946975</td>\n",
       "      <td>-0.632146</td>\n",
       "      <td>-0.255585</td>\n",
       "    </tr>\n",
       "    <tr>\n",
       "      <th>1</th>\n",
       "      <td>-0.421112</td>\n",
       "      <td>-0.891015</td>\n",
       "      <td>-0.894026</td>\n",
       "      <td>2.045802</td>\n",
       "      <td>-0.997333</td>\n",
       "      <td>-1.071442</td>\n",
       "      <td>-1.457484</td>\n",
       "      <td>-1.707320</td>\n",
       "      <td>-1.574384</td>\n",
       "      <td>-1.592406</td>\n",
       "      <td>...</td>\n",
       "      <td>-0.158961</td>\n",
       "      <td>1.482732</td>\n",
       "      <td>1.277672</td>\n",
       "      <td>1.348807</td>\n",
       "      <td>1.423534</td>\n",
       "      <td>1.236686</td>\n",
       "      <td>-2.386833</td>\n",
       "      <td>-2.471377</td>\n",
       "      <td>1.441242</td>\n",
       "      <td>1.227970</td>\n",
       "    </tr>\n",
       "    <tr>\n",
       "      <th>2</th>\n",
       "      <td>1.673913</td>\n",
       "      <td>-0.891015</td>\n",
       "      <td>-0.894026</td>\n",
       "      <td>2.045802</td>\n",
       "      <td>-0.997333</td>\n",
       "      <td>-1.071442</td>\n",
       "      <td>-1.457484</td>\n",
       "      <td>-1.707320</td>\n",
       "      <td>-1.574384</td>\n",
       "      <td>-1.592406</td>\n",
       "      <td>...</td>\n",
       "      <td>-0.191911</td>\n",
       "      <td>1.158556</td>\n",
       "      <td>0.876468</td>\n",
       "      <td>0.964785</td>\n",
       "      <td>0.994309</td>\n",
       "      <td>0.952665</td>\n",
       "      <td>-2.392158</td>\n",
       "      <td>-0.200362</td>\n",
       "      <td>0.587227</td>\n",
       "      <td>1.244981</td>\n",
       "    </tr>\n",
       "    <tr>\n",
       "      <th>3</th>\n",
       "      <td>-0.921555</td>\n",
       "      <td>-0.891015</td>\n",
       "      <td>-0.894026</td>\n",
       "      <td>2.045802</td>\n",
       "      <td>-0.997333</td>\n",
       "      <td>-1.071442</td>\n",
       "      <td>-1.457484</td>\n",
       "      <td>-1.707320</td>\n",
       "      <td>-1.574384</td>\n",
       "      <td>-1.592406</td>\n",
       "      <td>...</td>\n",
       "      <td>0.228862</td>\n",
       "      <td>5.081734</td>\n",
       "      <td>5.121030</td>\n",
       "      <td>4.608242</td>\n",
       "      <td>5.057815</td>\n",
       "      <td>4.507846</td>\n",
       "      <td>-2.463207</td>\n",
       "      <td>1.058159</td>\n",
       "      <td>2.266408</td>\n",
       "      <td>2.719120</td>\n",
       "    </tr>\n",
       "    <tr>\n",
       "      <th>4</th>\n",
       "      <td>-0.144469</td>\n",
       "      <td>-0.891015</td>\n",
       "      <td>-0.894026</td>\n",
       "      <td>2.045802</td>\n",
       "      <td>1.002674</td>\n",
       "      <td>-1.071442</td>\n",
       "      <td>-1.457484</td>\n",
       "      <td>-1.707320</td>\n",
       "      <td>-1.574384</td>\n",
       "      <td>-1.592406</td>\n",
       "      <td>...</td>\n",
       "      <td>-0.015869</td>\n",
       "      <td>0.135926</td>\n",
       "      <td>-0.400347</td>\n",
       "      <td>-1.421157</td>\n",
       "      <td>-0.791775</td>\n",
       "      <td>-0.659499</td>\n",
       "      <td>0.127967</td>\n",
       "      <td>-0.244046</td>\n",
       "      <td>0.135495</td>\n",
       "      <td>-1.029922</td>\n",
       "    </tr>\n",
       "    <tr>\n",
       "      <th>...</th>\n",
       "      <td>...</td>\n",
       "      <td>...</td>\n",
       "      <td>...</td>\n",
       "      <td>...</td>\n",
       "      <td>...</td>\n",
       "      <td>...</td>\n",
       "      <td>...</td>\n",
       "      <td>...</td>\n",
       "      <td>...</td>\n",
       "      <td>...</td>\n",
       "      <td>...</td>\n",
       "      <td>...</td>\n",
       "      <td>...</td>\n",
       "      <td>...</td>\n",
       "      <td>...</td>\n",
       "      <td>...</td>\n",
       "      <td>...</td>\n",
       "      <td>...</td>\n",
       "      <td>...</td>\n",
       "      <td>...</td>\n",
       "      <td>...</td>\n",
       "    </tr>\n",
       "    <tr>\n",
       "      <th>837935</th>\n",
       "      <td>-0.010810</td>\n",
       "      <td>0.854130</td>\n",
       "      <td>1.118536</td>\n",
       "      <td>-0.488806</td>\n",
       "      <td>1.002674</td>\n",
       "      <td>1.500444</td>\n",
       "      <td>0.356581</td>\n",
       "      <td>1.748584</td>\n",
       "      <td>0.521716</td>\n",
       "      <td>0.499642</td>\n",
       "      <td>...</td>\n",
       "      <td>0.483301</td>\n",
       "      <td>-0.524245</td>\n",
       "      <td>-0.727043</td>\n",
       "      <td>-0.644865</td>\n",
       "      <td>-0.639163</td>\n",
       "      <td>-0.645524</td>\n",
       "      <td>0.369215</td>\n",
       "      <td>-0.205877</td>\n",
       "      <td>-1.106845</td>\n",
       "      <td>-0.808575</td>\n",
       "    </tr>\n",
       "    <tr>\n",
       "      <th>837936</th>\n",
       "      <td>-0.013918</td>\n",
       "      <td>0.854130</td>\n",
       "      <td>1.118536</td>\n",
       "      <td>2.045802</td>\n",
       "      <td>-0.997333</td>\n",
       "      <td>1.500444</td>\n",
       "      <td>0.356581</td>\n",
       "      <td>1.748584</td>\n",
       "      <td>0.521716</td>\n",
       "      <td>0.499642</td>\n",
       "      <td>...</td>\n",
       "      <td>-0.985128</td>\n",
       "      <td>-0.378191</td>\n",
       "      <td>-0.537779</td>\n",
       "      <td>-0.902488</td>\n",
       "      <td>-0.789486</td>\n",
       "      <td>-1.008294</td>\n",
       "      <td>0.073196</td>\n",
       "      <td>-0.163982</td>\n",
       "      <td>-0.237488</td>\n",
       "      <td>-0.501966</td>\n",
       "    </tr>\n",
       "    <tr>\n",
       "      <th>837937</th>\n",
       "      <td>-0.017027</td>\n",
       "      <td>0.854130</td>\n",
       "      <td>1.118536</td>\n",
       "      <td>2.045802</td>\n",
       "      <td>1.002674</td>\n",
       "      <td>1.500444</td>\n",
       "      <td>0.356581</td>\n",
       "      <td>1.748584</td>\n",
       "      <td>0.521716</td>\n",
       "      <td>0.499642</td>\n",
       "      <td>...</td>\n",
       "      <td>0.413888</td>\n",
       "      <td>0.755937</td>\n",
       "      <td>0.355961</td>\n",
       "      <td>0.176567</td>\n",
       "      <td>0.179357</td>\n",
       "      <td>-0.011196</td>\n",
       "      <td>-0.034473</td>\n",
       "      <td>-0.163717</td>\n",
       "      <td>-0.448733</td>\n",
       "      <td>-0.324074</td>\n",
       "    </tr>\n",
       "    <tr>\n",
       "      <th>837938</th>\n",
       "      <td>0.014057</td>\n",
       "      <td>0.854130</td>\n",
       "      <td>1.118536</td>\n",
       "      <td>2.045802</td>\n",
       "      <td>1.002674</td>\n",
       "      <td>1.500444</td>\n",
       "      <td>0.356581</td>\n",
       "      <td>1.748584</td>\n",
       "      <td>0.521716</td>\n",
       "      <td>0.499642</td>\n",
       "      <td>...</td>\n",
       "      <td>0.307813</td>\n",
       "      <td>-0.996269</td>\n",
       "      <td>-1.001044</td>\n",
       "      <td>-0.732517</td>\n",
       "      <td>-0.710726</td>\n",
       "      <td>-0.710298</td>\n",
       "      <td>0.181692</td>\n",
       "      <td>-0.123747</td>\n",
       "      <td>-0.539430</td>\n",
       "      <td>-0.013099</td>\n",
       "    </tr>\n",
       "    <tr>\n",
       "      <th>837939</th>\n",
       "      <td>1.729863</td>\n",
       "      <td>0.854130</td>\n",
       "      <td>1.118536</td>\n",
       "      <td>2.045802</td>\n",
       "      <td>1.002674</td>\n",
       "      <td>1.500444</td>\n",
       "      <td>0.356581</td>\n",
       "      <td>1.748584</td>\n",
       "      <td>0.521716</td>\n",
       "      <td>0.499642</td>\n",
       "      <td>...</td>\n",
       "      <td>0.363050</td>\n",
       "      <td>0.440021</td>\n",
       "      <td>0.120864</td>\n",
       "      <td>-0.225325</td>\n",
       "      <td>-0.245389</td>\n",
       "      <td>-0.307304</td>\n",
       "      <td>0.126447</td>\n",
       "      <td>-0.253983</td>\n",
       "      <td>0.008375</td>\n",
       "      <td>0.712749</td>\n",
       "    </tr>\n",
       "  </tbody>\n",
       "</table>\n",
       "<p>837940 rows × 44 columns</p>\n",
       "</div>"
      ],
      "text/plain": [
       "           Store  DayOfWeek     Promo  SchoolHoliday    Promo2      Year  \\\n",
       "0      -1.471732  -0.891015 -0.894026       2.045802 -0.997333 -1.071442   \n",
       "1      -0.421112  -0.891015 -0.894026       2.045802 -0.997333 -1.071442   \n",
       "2       1.673913  -0.891015 -0.894026       2.045802 -0.997333 -1.071442   \n",
       "3      -0.921555  -0.891015 -0.894026       2.045802 -0.997333 -1.071442   \n",
       "4      -0.144469  -0.891015 -0.894026       2.045802  1.002674 -1.071442   \n",
       "...          ...        ...       ...            ...       ...       ...   \n",
       "837935 -0.010810   0.854130  1.118536      -0.488806  1.002674  1.500444   \n",
       "837936 -0.013918   0.854130  1.118536       2.045802 -0.997333  1.500444   \n",
       "837937 -0.017027   0.854130  1.118536       2.045802  1.002674  1.500444   \n",
       "837938  0.014057   0.854130  1.118536       2.045802  1.002674  1.500444   \n",
       "837939  1.729863   0.854130  1.118536       2.045802  1.002674  1.500444   \n",
       "\n",
       "           Month       Day  WeekOfYear  DayOfYear  ...  Acceleration  \\\n",
       "0      -1.457484 -1.707320   -1.574384  -1.592406  ...     -0.238967   \n",
       "1      -1.457484 -1.707320   -1.574384  -1.592406  ...     -0.158961   \n",
       "2      -1.457484 -1.707320   -1.574384  -1.592406  ...     -0.191911   \n",
       "3      -1.457484 -1.707320   -1.574384  -1.592406  ...      0.228862   \n",
       "4      -1.457484 -1.707320   -1.574384  -1.592406  ...     -0.015869   \n",
       "...          ...       ...         ...        ...  ...           ...   \n",
       "837935  0.356581  1.748584    0.521716   0.499642  ...      0.483301   \n",
       "837936  0.356581  1.748584    0.521716   0.499642  ...     -0.985128   \n",
       "837937  0.356581  1.748584    0.521716   0.499642  ...      0.413888   \n",
       "837938  0.356581  1.748584    0.521716   0.499642  ...      0.307813   \n",
       "837939  0.356581  1.748584    0.521716   0.499642  ...      0.363050   \n",
       "\n",
       "        Weekly_rolling_mean  Monthly_rolling_mean  Previous_quarter_median  \\\n",
       "0                  0.160205             -0.095660                 0.210221   \n",
       "1                  1.482732              1.277672                 1.348807   \n",
       "2                  1.158556              0.876468                 0.964785   \n",
       "3                  5.081734              5.121030                 4.608242   \n",
       "4                  0.135926             -0.400347                -1.421157   \n",
       "...                     ...                   ...                      ...   \n",
       "837935            -0.524245             -0.727043                -0.644865   \n",
       "837936            -0.378191             -0.537779                -0.902488   \n",
       "837937             0.755937              0.355961                 0.176567   \n",
       "837938            -0.996269             -1.001044                -0.732517   \n",
       "837939             0.440021              0.120864                -0.225325   \n",
       "\n",
       "        Previous_half_year_median  Median_over_day_of_week  Frequency_2  \\\n",
       "0                        0.151726                -0.065961    -0.016845   \n",
       "1                        1.423534                 1.236686    -2.386833   \n",
       "2                        0.994309                 0.952665    -2.392158   \n",
       "3                        5.057815                 4.507846    -2.463207   \n",
       "4                       -0.791775                -0.659499     0.127967   \n",
       "...                           ...                      ...          ...   \n",
       "837935                  -0.639163                -0.645524     0.369215   \n",
       "837936                  -0.789486                -1.008294     0.073196   \n",
       "837937                   0.179357                -0.011196    -0.034473   \n",
       "837938                  -0.710726                -0.710298     0.181692   \n",
       "837939                  -0.245389                -0.307304     0.126447   \n",
       "\n",
       "        Frequency_3  Amplitude_2  Amplitude_3  \n",
       "0          0.946975    -0.632146    -0.255585  \n",
       "1         -2.471377     1.441242     1.227970  \n",
       "2         -0.200362     0.587227     1.244981  \n",
       "3          1.058159     2.266408     2.719120  \n",
       "4         -0.244046     0.135495    -1.029922  \n",
       "...             ...          ...          ...  \n",
       "837935    -0.205877    -1.106845    -0.808575  \n",
       "837936    -0.163982    -0.237488    -0.501966  \n",
       "837937    -0.163717    -0.448733    -0.324074  \n",
       "837938    -0.123747    -0.539430    -0.013099  \n",
       "837939    -0.253983     0.008375     0.712749  \n",
       "\n",
       "[837940 rows x 44 columns]"
      ]
     },
     "execution_count": 142,
     "metadata": {},
     "output_type": "execute_result"
    }
   ],
   "source": [
    "scaled_numeric_df"
   ]
  },
  {
   "cell_type": "code",
   "execution_count": 155,
   "id": "ab12bd76",
   "metadata": {},
   "outputs": [],
   "source": [
    "base_categorical = base_X[categorical_cols]\n",
    "\n",
    "# Impute training data\n",
    "imputer = SimpleImputer(strategy='most_frequent')\n",
    "X_train_imputed = imputer.fit_transform(base_categorical)\n",
    "\n",
    "# Encode training data\n",
    "encoder = OneHotEncoder(handle_unknown='ignore')\n",
    "X_encoded_categorical = encoder.fit_transform(X_train_imputed)\n",
    "\n",
    "column_name = encoder.get_feature_names(['StateHoliday', 'StoreType', 'Assortment'])\n",
    "scaled_categorical_df =  pd.DataFrame(X_encoded_categorical.todense(), columns= column_name)\n",
    "    "
   ]
  },
  {
   "cell_type": "code",
   "execution_count": 172,
   "id": "091a370e",
   "metadata": {},
   "outputs": [],
   "source": [
    "base_XX = pd.concat([scaled_numeric_df.reset_index(drop=True), scaled_categorical_df.reset_index(drop=True)], axis=1)\n",
    "y = df_1['Sales']"
   ]
  },
  {
   "cell_type": "code",
   "execution_count": 193,
   "id": "dccf4760",
   "metadata": {},
   "outputs": [],
   "source": [
    "base_XX.to_csv(\"Scaled_data_for_feature_selection.csv\")"
   ]
  },
  {
   "cell_type": "code",
   "execution_count": 26,
   "id": "5958c31e",
   "metadata": {},
   "outputs": [],
   "source": [
    "base_XX = pd.read_csv(\"Scaled_data_for_feature_selection.csv\")\n",
    "\n",
    "base_XX.drop(['Unnamed: 0'],axis=1,inplace=True)"
   ]
  },
  {
   "cell_type": "code",
   "execution_count": 27,
   "id": "9b3a0220",
   "metadata": {},
   "outputs": [
    {
     "data": {
      "text/html": [
       "<div>\n",
       "<style scoped>\n",
       "    .dataframe tbody tr th:only-of-type {\n",
       "        vertical-align: middle;\n",
       "    }\n",
       "\n",
       "    .dataframe tbody tr th {\n",
       "        vertical-align: top;\n",
       "    }\n",
       "\n",
       "    .dataframe thead th {\n",
       "        text-align: right;\n",
       "    }\n",
       "</style>\n",
       "<table border=\"1\" class=\"dataframe\">\n",
       "  <thead>\n",
       "    <tr style=\"text-align: right;\">\n",
       "      <th></th>\n",
       "      <th>Store</th>\n",
       "      <th>DayOfWeek</th>\n",
       "      <th>Promo</th>\n",
       "      <th>SchoolHoliday</th>\n",
       "      <th>Promo2</th>\n",
       "      <th>Year</th>\n",
       "      <th>Month</th>\n",
       "      <th>Day</th>\n",
       "      <th>WeekOfYear</th>\n",
       "      <th>DayOfYear</th>\n",
       "      <th>...</th>\n",
       "      <th>StateHoliday_a</th>\n",
       "      <th>StateHoliday_b</th>\n",
       "      <th>StateHoliday_c</th>\n",
       "      <th>StoreType_a</th>\n",
       "      <th>StoreType_b</th>\n",
       "      <th>StoreType_c</th>\n",
       "      <th>StoreType_d</th>\n",
       "      <th>Assortment_a</th>\n",
       "      <th>Assortment_b</th>\n",
       "      <th>Assortment_c</th>\n",
       "    </tr>\n",
       "  </thead>\n",
       "  <tbody>\n",
       "    <tr>\n",
       "      <th>0</th>\n",
       "      <td>-1.471732</td>\n",
       "      <td>-0.891015</td>\n",
       "      <td>-0.894026</td>\n",
       "      <td>2.045802</td>\n",
       "      <td>-0.997333</td>\n",
       "      <td>-1.071442</td>\n",
       "      <td>-1.457484</td>\n",
       "      <td>-1.70732</td>\n",
       "      <td>-1.574384</td>\n",
       "      <td>-1.592406</td>\n",
       "      <td>...</td>\n",
       "      <td>1.0</td>\n",
       "      <td>0.0</td>\n",
       "      <td>0.0</td>\n",
       "      <td>0.0</td>\n",
       "      <td>1.0</td>\n",
       "      <td>0.0</td>\n",
       "      <td>0.0</td>\n",
       "      <td>1.0</td>\n",
       "      <td>0.0</td>\n",
       "      <td>0.0</td>\n",
       "    </tr>\n",
       "    <tr>\n",
       "      <th>1</th>\n",
       "      <td>-0.421112</td>\n",
       "      <td>-0.891015</td>\n",
       "      <td>-0.894026</td>\n",
       "      <td>2.045802</td>\n",
       "      <td>-0.997333</td>\n",
       "      <td>-1.071442</td>\n",
       "      <td>-1.457484</td>\n",
       "      <td>-1.70732</td>\n",
       "      <td>-1.574384</td>\n",
       "      <td>-1.592406</td>\n",
       "      <td>...</td>\n",
       "      <td>1.0</td>\n",
       "      <td>0.0</td>\n",
       "      <td>0.0</td>\n",
       "      <td>0.0</td>\n",
       "      <td>1.0</td>\n",
       "      <td>0.0</td>\n",
       "      <td>0.0</td>\n",
       "      <td>1.0</td>\n",
       "      <td>0.0</td>\n",
       "      <td>0.0</td>\n",
       "    </tr>\n",
       "    <tr>\n",
       "      <th>2</th>\n",
       "      <td>1.673913</td>\n",
       "      <td>-0.891015</td>\n",
       "      <td>-0.894026</td>\n",
       "      <td>2.045802</td>\n",
       "      <td>-0.997333</td>\n",
       "      <td>-1.071442</td>\n",
       "      <td>-1.457484</td>\n",
       "      <td>-1.70732</td>\n",
       "      <td>-1.574384</td>\n",
       "      <td>-1.592406</td>\n",
       "      <td>...</td>\n",
       "      <td>1.0</td>\n",
       "      <td>0.0</td>\n",
       "      <td>0.0</td>\n",
       "      <td>0.0</td>\n",
       "      <td>1.0</td>\n",
       "      <td>0.0</td>\n",
       "      <td>0.0</td>\n",
       "      <td>0.0</td>\n",
       "      <td>1.0</td>\n",
       "      <td>0.0</td>\n",
       "    </tr>\n",
       "    <tr>\n",
       "      <th>3</th>\n",
       "      <td>-0.921555</td>\n",
       "      <td>-0.891015</td>\n",
       "      <td>-0.894026</td>\n",
       "      <td>2.045802</td>\n",
       "      <td>-0.997333</td>\n",
       "      <td>-1.071442</td>\n",
       "      <td>-1.457484</td>\n",
       "      <td>-1.70732</td>\n",
       "      <td>-1.574384</td>\n",
       "      <td>-1.592406</td>\n",
       "      <td>...</td>\n",
       "      <td>1.0</td>\n",
       "      <td>0.0</td>\n",
       "      <td>0.0</td>\n",
       "      <td>0.0</td>\n",
       "      <td>1.0</td>\n",
       "      <td>0.0</td>\n",
       "      <td>0.0</td>\n",
       "      <td>1.0</td>\n",
       "      <td>0.0</td>\n",
       "      <td>0.0</td>\n",
       "    </tr>\n",
       "    <tr>\n",
       "      <th>4</th>\n",
       "      <td>-0.144469</td>\n",
       "      <td>-0.891015</td>\n",
       "      <td>-0.894026</td>\n",
       "      <td>2.045802</td>\n",
       "      <td>1.002674</td>\n",
       "      <td>-1.071442</td>\n",
       "      <td>-1.457484</td>\n",
       "      <td>-1.70732</td>\n",
       "      <td>-1.574384</td>\n",
       "      <td>-1.592406</td>\n",
       "      <td>...</td>\n",
       "      <td>1.0</td>\n",
       "      <td>0.0</td>\n",
       "      <td>0.0</td>\n",
       "      <td>0.0</td>\n",
       "      <td>1.0</td>\n",
       "      <td>0.0</td>\n",
       "      <td>0.0</td>\n",
       "      <td>0.0</td>\n",
       "      <td>1.0</td>\n",
       "      <td>0.0</td>\n",
       "    </tr>\n",
       "  </tbody>\n",
       "</table>\n",
       "<p>5 rows × 55 columns</p>\n",
       "</div>"
      ],
      "text/plain": [
       "      Store  DayOfWeek     Promo  SchoolHoliday    Promo2      Year     Month  \\\n",
       "0 -1.471732  -0.891015 -0.894026       2.045802 -0.997333 -1.071442 -1.457484   \n",
       "1 -0.421112  -0.891015 -0.894026       2.045802 -0.997333 -1.071442 -1.457484   \n",
       "2  1.673913  -0.891015 -0.894026       2.045802 -0.997333 -1.071442 -1.457484   \n",
       "3 -0.921555  -0.891015 -0.894026       2.045802 -0.997333 -1.071442 -1.457484   \n",
       "4 -0.144469  -0.891015 -0.894026       2.045802  1.002674 -1.071442 -1.457484   \n",
       "\n",
       "       Day  WeekOfYear  DayOfYear  ...  StateHoliday_a  StateHoliday_b  \\\n",
       "0 -1.70732   -1.574384  -1.592406  ...             1.0             0.0   \n",
       "1 -1.70732   -1.574384  -1.592406  ...             1.0             0.0   \n",
       "2 -1.70732   -1.574384  -1.592406  ...             1.0             0.0   \n",
       "3 -1.70732   -1.574384  -1.592406  ...             1.0             0.0   \n",
       "4 -1.70732   -1.574384  -1.592406  ...             1.0             0.0   \n",
       "\n",
       "   StateHoliday_c  StoreType_a  StoreType_b  StoreType_c  StoreType_d  \\\n",
       "0             0.0          0.0          1.0          0.0          0.0   \n",
       "1             0.0          0.0          1.0          0.0          0.0   \n",
       "2             0.0          0.0          1.0          0.0          0.0   \n",
       "3             0.0          0.0          1.0          0.0          0.0   \n",
       "4             0.0          0.0          1.0          0.0          0.0   \n",
       "\n",
       "   Assortment_a  Assortment_b  Assortment_c  \n",
       "0           1.0           0.0           0.0  \n",
       "1           1.0           0.0           0.0  \n",
       "2           0.0           1.0           0.0  \n",
       "3           1.0           0.0           0.0  \n",
       "4           0.0           1.0           0.0  \n",
       "\n",
       "[5 rows x 55 columns]"
      ]
     },
     "execution_count": 27,
     "metadata": {},
     "output_type": "execute_result"
    }
   ],
   "source": [
    "base_XX.head(5)"
   ]
  },
  {
   "cell_type": "code",
   "execution_count": 28,
   "id": "dfabcf1f",
   "metadata": {},
   "outputs": [
    {
     "name": "stdout",
     "output_type": "stream",
     "text": [
      "Feature 0: 44.990856\n",
      "Feature 1: 16850.577527\n",
      "Feature 2: 90021.641291\n",
      "Feature 3: 774.415208\n",
      "Feature 4: 9858.011779\n",
      "Feature 5: 1002.253142\n",
      "Feature 6: 1878.791773\n",
      "Feature 7: 1936.815855\n",
      "Feature 8: 1894.315068\n",
      "Feature 9: 1538.290669\n",
      "Feature 10: 89.745328\n",
      "Feature 11: 1221.931951\n",
      "Feature 12: 13.811351\n",
      "Feature 13: 52903.459734\n",
      "Feature 14: 50293.568748\n",
      "Feature 15: 1005.980087\n",
      "Feature 16: 44.349013\n",
      "Feature 17: 342893.367461\n",
      "Feature 18: 833.547186\n",
      "Feature 19: 71.147277\n",
      "Feature 20: 87.783875\n",
      "Feature 21: 2223.416250\n",
      "Feature 22: 9861.785952\n",
      "Feature 23: 0.270281\n",
      "Feature 24: 621.547852\n",
      "Feature 25: 934337.152249\n",
      "Feature 26: 934337.152249\n",
      "Feature 27: 11.387731\n",
      "Feature 28: 2182.293960\n",
      "Feature 29: 11049.371084\n",
      "Feature 30: 10869.518774\n",
      "Feature 31: 10608.722834\n",
      "Feature 32: 10446.657043\n",
      "Feature 33: 72934.449734\n",
      "Feature 34: 2970.746798\n",
      "Feature 35: 1169092.135250\n",
      "Feature 36: 1091621.859934\n",
      "Feature 37: 796518.654045\n",
      "Feature 38: 884624.580236\n",
      "Feature 39: 1402113.204645\n",
      "Feature 40: 394.302670\n",
      "Feature 41: 336.650997\n",
      "Feature 42: 264133.024231\n",
      "Feature 43: 287106.476065\n",
      "Feature 44: 94.078942\n",
      "Feature 45: 25.524026\n",
      "Feature 46: 42.864375\n",
      "Feature 47: 76.888420\n",
      "Feature 48: 55.527500\n",
      "Feature 49: 12539.234633\n",
      "Feature 50: 10.907686\n",
      "Feature 51: 467.623373\n",
      "Feature 52: 7328.872887\n",
      "Feature 53: 1796.833291\n",
      "Feature 54: 5979.362637\n"
     ]
    },
    {
     "data": {
      "image/png": "[encoded data removed]",
      "text/plain": [
       "<Figure size 432x288 with 1 Axes>"
      ]
     },
     "metadata": {
      "needs_background": "light"
     },
     "output_type": "display_data"
    }
   ],
   "source": [
    "# example of correlation feature selection for numerical data\n",
    "from sklearn.datasets import make_regression\n",
    "from sklearn.model_selection import train_test_split\n",
    "from sklearn.feature_selection import SelectKBest\n",
    "from sklearn.feature_selection import f_regression\n",
    "from matplotlib import pyplot\n",
    " \n",
    "# feature selection\n",
    "def select_features(X_train, y_train, X_test):\n",
    "    # configure to select all features\n",
    "    fs = SelectKBest(score_func=f_regression, k='all')\n",
    "    # learn relationship from training data\n",
    "    fs.fit(X_train, y_train)\n",
    "    # transform train input data\n",
    "    X_train_fs = fs.transform(X_train)\n",
    "    # transform test input data\n",
    "    X_test_fs = fs.transform(X_test)\n",
    "    return X_train_fs, X_test_fs, fs\n",
    " \n",
    "# split into train and test sets\n",
    "X_train, X_test, y_train, y_test = train_test_split(base_XX, y, test_size=0.33, random_state=1)\n",
    "# feature selection\n",
    "X_train_fs, X_test_fs, fs = select_features(X_train, y_train, X_test)\n",
    "# what are scores for the features\n",
    "for i in range(len(fs.scores_)):\n",
    "    print('Feature %d: %f' % (i, fs.scores_[i]))\n",
    "# plot the scores\n",
    "pyplot.bar([i for i in range(len(fs.scores_))], fs.scores_)\n",
    "pyplot.show()"
   ]
  },
  {
   "cell_type": "markdown",
   "id": "986dd44f",
   "metadata": {},
   "source": [
    "- Observation:\n",
    "    - From the above graph and feature values, we can say that there are almost 38 import features"
   ]
  },
  {
   "cell_type": "code",
   "execution_count": 118,
   "id": "9647fcc3",
   "metadata": {},
   "outputs": [
    {
     "name": "stdout",
     "output_type": "stream",
     "text": [
      "After selecting best 38 features: (837940, 38)\n",
      "Selected best 38:\n",
      "['DayOfWeek' 'Promo' 'SchoolHoliday' 'Promo2' 'Year' 'Month' 'Day'\n",
      " 'WeekOfYear' 'DayOfYear' 'State_holiday_before_days' 'Promo_before_days'\n",
      " 'Promo_after_days' 'School_Holiday_before_days' 'CustomerPerDay'\n",
      " 'CompetitionDistance' 'Promo2SinceWeek' 'Promo2SinceYear'\n",
      " 'holiday_next_week' 'SalesPerDay' 'SalesPerCustomerPerDay' 'PromoOpen'\n",
      " 'PromoInterval0' 'PromoInterval1' 'PromoInterval2' 'PromoInterval3'\n",
      " 'Variation' 'Acceleration' 'Weekly_rolling_mean' 'Monthly_rolling_mean'\n",
      " 'Previous_quarter_median' 'Previous_half_year_median'\n",
      " 'Median_over_day_of_week' 'Amplitude_2' 'Amplitude_3' 'StoreType_b'\n",
      " 'Assortment_a' 'Assortment_b' 'Assortment_c']\n"
     ]
    }
   ],
   "source": [
    "select = SelectKBest(score_func=f_regression, k=38)\n",
    "z = select.fit_transform(base_XX,y)\n",
    " \n",
    "print(\"After selecting best 38 features:\", z.shape) \n",
    " \n",
    "    \n",
    "filter = select.get_support()\n",
    "features = np.array(base_XX.columns)\n",
    "\n",
    " \n",
    "print(\"Selected best 38:\")\n",
    "final_selected_features = features[filter]\n",
    "print(final_selected_features)"
   ]
  },
  {
   "cell_type": "code",
   "execution_count": 36,
   "id": "f25efdb2",
   "metadata": {},
   "outputs": [
    {
     "data": {
      "text/html": [
       "<div>\n",
       "<style scoped>\n",
       "    .dataframe tbody tr th:only-of-type {\n",
       "        vertical-align: middle;\n",
       "    }\n",
       "\n",
       "    .dataframe tbody tr th {\n",
       "        vertical-align: top;\n",
       "    }\n",
       "\n",
       "    .dataframe thead th {\n",
       "        text-align: right;\n",
       "    }\n",
       "</style>\n",
       "<table border=\"1\" class=\"dataframe\">\n",
       "  <thead>\n",
       "    <tr style=\"text-align: right;\">\n",
       "      <th></th>\n",
       "      <th>DayOfWeek</th>\n",
       "      <th>Promo</th>\n",
       "      <th>SchoolHoliday</th>\n",
       "      <th>Promo2</th>\n",
       "      <th>Year</th>\n",
       "      <th>Month</th>\n",
       "      <th>Day</th>\n",
       "      <th>WeekOfYear</th>\n",
       "      <th>DayOfYear</th>\n",
       "      <th>State_holiday_before_days</th>\n",
       "      <th>...</th>\n",
       "      <th>Monthly_rolling_mean</th>\n",
       "      <th>Previous_quarter_median</th>\n",
       "      <th>Previous_half_year_median</th>\n",
       "      <th>Median_over_day_of_week</th>\n",
       "      <th>Amplitude_2</th>\n",
       "      <th>Amplitude_3</th>\n",
       "      <th>StoreType_b</th>\n",
       "      <th>Assortment_a</th>\n",
       "      <th>Assortment_b</th>\n",
       "      <th>Assortment_c</th>\n",
       "    </tr>\n",
       "  </thead>\n",
       "  <tbody>\n",
       "    <tr>\n",
       "      <th>0</th>\n",
       "      <td>-0.891015</td>\n",
       "      <td>-0.894026</td>\n",
       "      <td>2.045802</td>\n",
       "      <td>-0.997333</td>\n",
       "      <td>-1.071442</td>\n",
       "      <td>-1.457484</td>\n",
       "      <td>-1.707320</td>\n",
       "      <td>-1.574384</td>\n",
       "      <td>-1.592406</td>\n",
       "      <td>-1.237515</td>\n",
       "      <td>...</td>\n",
       "      <td>-0.095660</td>\n",
       "      <td>0.210221</td>\n",
       "      <td>0.151726</td>\n",
       "      <td>-0.065961</td>\n",
       "      <td>-0.632146</td>\n",
       "      <td>-0.255585</td>\n",
       "      <td>1.0</td>\n",
       "      <td>1.0</td>\n",
       "      <td>0.0</td>\n",
       "      <td>0.0</td>\n",
       "    </tr>\n",
       "    <tr>\n",
       "      <th>1</th>\n",
       "      <td>-0.891015</td>\n",
       "      <td>-0.894026</td>\n",
       "      <td>2.045802</td>\n",
       "      <td>-0.997333</td>\n",
       "      <td>-1.071442</td>\n",
       "      <td>-1.457484</td>\n",
       "      <td>-1.707320</td>\n",
       "      <td>-1.574384</td>\n",
       "      <td>-1.592406</td>\n",
       "      <td>-1.237515</td>\n",
       "      <td>...</td>\n",
       "      <td>1.277672</td>\n",
       "      <td>1.348807</td>\n",
       "      <td>1.423534</td>\n",
       "      <td>1.236686</td>\n",
       "      <td>1.441242</td>\n",
       "      <td>1.227970</td>\n",
       "      <td>1.0</td>\n",
       "      <td>1.0</td>\n",
       "      <td>0.0</td>\n",
       "      <td>0.0</td>\n",
       "    </tr>\n",
       "    <tr>\n",
       "      <th>2</th>\n",
       "      <td>-0.891015</td>\n",
       "      <td>-0.894026</td>\n",
       "      <td>2.045802</td>\n",
       "      <td>-0.997333</td>\n",
       "      <td>-1.071442</td>\n",
       "      <td>-1.457484</td>\n",
       "      <td>-1.707320</td>\n",
       "      <td>-1.574384</td>\n",
       "      <td>-1.592406</td>\n",
       "      <td>-1.237515</td>\n",
       "      <td>...</td>\n",
       "      <td>0.876468</td>\n",
       "      <td>0.964785</td>\n",
       "      <td>0.994309</td>\n",
       "      <td>0.952665</td>\n",
       "      <td>0.587227</td>\n",
       "      <td>1.244981</td>\n",
       "      <td>1.0</td>\n",
       "      <td>0.0</td>\n",
       "      <td>1.0</td>\n",
       "      <td>0.0</td>\n",
       "    </tr>\n",
       "    <tr>\n",
       "      <th>3</th>\n",
       "      <td>-0.891015</td>\n",
       "      <td>-0.894026</td>\n",
       "      <td>2.045802</td>\n",
       "      <td>-0.997333</td>\n",
       "      <td>-1.071442</td>\n",
       "      <td>-1.457484</td>\n",
       "      <td>-1.707320</td>\n",
       "      <td>-1.574384</td>\n",
       "      <td>-1.592406</td>\n",
       "      <td>-1.237515</td>\n",
       "      <td>...</td>\n",
       "      <td>5.121030</td>\n",
       "      <td>4.608242</td>\n",
       "      <td>5.057815</td>\n",
       "      <td>4.507846</td>\n",
       "      <td>2.266408</td>\n",
       "      <td>2.719120</td>\n",
       "      <td>1.0</td>\n",
       "      <td>1.0</td>\n",
       "      <td>0.0</td>\n",
       "      <td>0.0</td>\n",
       "    </tr>\n",
       "    <tr>\n",
       "      <th>4</th>\n",
       "      <td>-0.891015</td>\n",
       "      <td>-0.894026</td>\n",
       "      <td>2.045802</td>\n",
       "      <td>1.002674</td>\n",
       "      <td>-1.071442</td>\n",
       "      <td>-1.457484</td>\n",
       "      <td>-1.707320</td>\n",
       "      <td>-1.574384</td>\n",
       "      <td>-1.592406</td>\n",
       "      <td>-1.237515</td>\n",
       "      <td>...</td>\n",
       "      <td>-0.400347</td>\n",
       "      <td>-1.421157</td>\n",
       "      <td>-0.791775</td>\n",
       "      <td>-0.659499</td>\n",
       "      <td>0.135495</td>\n",
       "      <td>-1.029922</td>\n",
       "      <td>1.0</td>\n",
       "      <td>0.0</td>\n",
       "      <td>1.0</td>\n",
       "      <td>0.0</td>\n",
       "    </tr>\n",
       "    <tr>\n",
       "      <th>...</th>\n",
       "      <td>...</td>\n",
       "      <td>...</td>\n",
       "      <td>...</td>\n",
       "      <td>...</td>\n",
       "      <td>...</td>\n",
       "      <td>...</td>\n",
       "      <td>...</td>\n",
       "      <td>...</td>\n",
       "      <td>...</td>\n",
       "      <td>...</td>\n",
       "      <td>...</td>\n",
       "      <td>...</td>\n",
       "      <td>...</td>\n",
       "      <td>...</td>\n",
       "      <td>...</td>\n",
       "      <td>...</td>\n",
       "      <td>...</td>\n",
       "      <td>...</td>\n",
       "      <td>...</td>\n",
       "      <td>...</td>\n",
       "      <td>...</td>\n",
       "    </tr>\n",
       "    <tr>\n",
       "      <th>837935</th>\n",
       "      <td>0.854130</td>\n",
       "      <td>1.118536</td>\n",
       "      <td>-0.488806</td>\n",
       "      <td>1.002674</td>\n",
       "      <td>1.500444</td>\n",
       "      <td>0.356581</td>\n",
       "      <td>1.748584</td>\n",
       "      <td>0.521716</td>\n",
       "      <td>0.499642</td>\n",
       "      <td>-1.205207</td>\n",
       "      <td>...</td>\n",
       "      <td>-0.727043</td>\n",
       "      <td>-0.644865</td>\n",
       "      <td>-0.639163</td>\n",
       "      <td>-0.645524</td>\n",
       "      <td>-1.106845</td>\n",
       "      <td>-0.808575</td>\n",
       "      <td>0.0</td>\n",
       "      <td>1.0</td>\n",
       "      <td>0.0</td>\n",
       "      <td>0.0</td>\n",
       "    </tr>\n",
       "    <tr>\n",
       "      <th>837936</th>\n",
       "      <td>0.854130</td>\n",
       "      <td>1.118536</td>\n",
       "      <td>2.045802</td>\n",
       "      <td>-0.997333</td>\n",
       "      <td>1.500444</td>\n",
       "      <td>0.356581</td>\n",
       "      <td>1.748584</td>\n",
       "      <td>0.521716</td>\n",
       "      <td>0.499642</td>\n",
       "      <td>-1.205207</td>\n",
       "      <td>...</td>\n",
       "      <td>-0.537779</td>\n",
       "      <td>-0.902488</td>\n",
       "      <td>-0.789486</td>\n",
       "      <td>-1.008294</td>\n",
       "      <td>-0.237488</td>\n",
       "      <td>-0.501966</td>\n",
       "      <td>0.0</td>\n",
       "      <td>0.0</td>\n",
       "      <td>0.0</td>\n",
       "      <td>1.0</td>\n",
       "    </tr>\n",
       "    <tr>\n",
       "      <th>837937</th>\n",
       "      <td>0.854130</td>\n",
       "      <td>1.118536</td>\n",
       "      <td>2.045802</td>\n",
       "      <td>1.002674</td>\n",
       "      <td>1.500444</td>\n",
       "      <td>0.356581</td>\n",
       "      <td>1.748584</td>\n",
       "      <td>0.521716</td>\n",
       "      <td>0.499642</td>\n",
       "      <td>-1.205207</td>\n",
       "      <td>...</td>\n",
       "      <td>0.355961</td>\n",
       "      <td>0.176567</td>\n",
       "      <td>0.179357</td>\n",
       "      <td>-0.011196</td>\n",
       "      <td>-0.448733</td>\n",
       "      <td>-0.324074</td>\n",
       "      <td>0.0</td>\n",
       "      <td>1.0</td>\n",
       "      <td>0.0</td>\n",
       "      <td>0.0</td>\n",
       "    </tr>\n",
       "    <tr>\n",
       "      <th>837938</th>\n",
       "      <td>0.854130</td>\n",
       "      <td>1.118536</td>\n",
       "      <td>2.045802</td>\n",
       "      <td>1.002674</td>\n",
       "      <td>1.500444</td>\n",
       "      <td>0.356581</td>\n",
       "      <td>1.748584</td>\n",
       "      <td>0.521716</td>\n",
       "      <td>0.499642</td>\n",
       "      <td>-1.205207</td>\n",
       "      <td>...</td>\n",
       "      <td>-1.001044</td>\n",
       "      <td>-0.732517</td>\n",
       "      <td>-0.710726</td>\n",
       "      <td>-0.710298</td>\n",
       "      <td>-0.539430</td>\n",
       "      <td>-0.013099</td>\n",
       "      <td>0.0</td>\n",
       "      <td>1.0</td>\n",
       "      <td>0.0</td>\n",
       "      <td>0.0</td>\n",
       "    </tr>\n",
       "    <tr>\n",
       "      <th>837939</th>\n",
       "      <td>0.854130</td>\n",
       "      <td>1.118536</td>\n",
       "      <td>2.045802</td>\n",
       "      <td>1.002674</td>\n",
       "      <td>1.500444</td>\n",
       "      <td>0.356581</td>\n",
       "      <td>1.748584</td>\n",
       "      <td>0.521716</td>\n",
       "      <td>0.499642</td>\n",
       "      <td>-1.205207</td>\n",
       "      <td>...</td>\n",
       "      <td>0.120864</td>\n",
       "      <td>-0.225325</td>\n",
       "      <td>-0.245389</td>\n",
       "      <td>-0.307304</td>\n",
       "      <td>0.008375</td>\n",
       "      <td>0.712749</td>\n",
       "      <td>0.0</td>\n",
       "      <td>0.0</td>\n",
       "      <td>0.0</td>\n",
       "      <td>1.0</td>\n",
       "    </tr>\n",
       "  </tbody>\n",
       "</table>\n",
       "<p>837940 rows × 38 columns</p>\n",
       "</div>"
      ],
      "text/plain": [
       "        DayOfWeek     Promo  SchoolHoliday    Promo2      Year     Month  \\\n",
       "0       -0.891015 -0.894026       2.045802 -0.997333 -1.071442 -1.457484   \n",
       "1       -0.891015 -0.894026       2.045802 -0.997333 -1.071442 -1.457484   \n",
       "2       -0.891015 -0.894026       2.045802 -0.997333 -1.071442 -1.457484   \n",
       "3       -0.891015 -0.894026       2.045802 -0.997333 -1.071442 -1.457484   \n",
       "4       -0.891015 -0.894026       2.045802  1.002674 -1.071442 -1.457484   \n",
       "...           ...       ...            ...       ...       ...       ...   \n",
       "837935   0.854130  1.118536      -0.488806  1.002674  1.500444  0.356581   \n",
       "837936   0.854130  1.118536       2.045802 -0.997333  1.500444  0.356581   \n",
       "837937   0.854130  1.118536       2.045802  1.002674  1.500444  0.356581   \n",
       "837938   0.854130  1.118536       2.045802  1.002674  1.500444  0.356581   \n",
       "837939   0.854130  1.118536       2.045802  1.002674  1.500444  0.356581   \n",
       "\n",
       "             Day  WeekOfYear  DayOfYear  State_holiday_before_days  ...  \\\n",
       "0      -1.707320   -1.574384  -1.592406                  -1.237515  ...   \n",
       "1      -1.707320   -1.574384  -1.592406                  -1.237515  ...   \n",
       "2      -1.707320   -1.574384  -1.592406                  -1.237515  ...   \n",
       "3      -1.707320   -1.574384  -1.592406                  -1.237515  ...   \n",
       "4      -1.707320   -1.574384  -1.592406                  -1.237515  ...   \n",
       "...          ...         ...        ...                        ...  ...   \n",
       "837935  1.748584    0.521716   0.499642                  -1.205207  ...   \n",
       "837936  1.748584    0.521716   0.499642                  -1.205207  ...   \n",
       "837937  1.748584    0.521716   0.499642                  -1.205207  ...   \n",
       "837938  1.748584    0.521716   0.499642                  -1.205207  ...   \n",
       "837939  1.748584    0.521716   0.499642                  -1.205207  ...   \n",
       "\n",
       "        Monthly_rolling_mean  Previous_quarter_median  \\\n",
       "0                  -0.095660                 0.210221   \n",
       "1                   1.277672                 1.348807   \n",
       "2                   0.876468                 0.964785   \n",
       "3                   5.121030                 4.608242   \n",
       "4                  -0.400347                -1.421157   \n",
       "...                      ...                      ...   \n",
       "837935             -0.727043                -0.644865   \n",
       "837936             -0.537779                -0.902488   \n",
       "837937              0.355961                 0.176567   \n",
       "837938             -1.001044                -0.732517   \n",
       "837939              0.120864                -0.225325   \n",
       "\n",
       "        Previous_half_year_median  Median_over_day_of_week  Amplitude_2  \\\n",
       "0                        0.151726                -0.065961    -0.632146   \n",
       "1                        1.423534                 1.236686     1.441242   \n",
       "2                        0.994309                 0.952665     0.587227   \n",
       "3                        5.057815                 4.507846     2.266408   \n",
       "4                       -0.791775                -0.659499     0.135495   \n",
       "...                           ...                      ...          ...   \n",
       "837935                  -0.639163                -0.645524    -1.106845   \n",
       "837936                  -0.789486                -1.008294    -0.237488   \n",
       "837937                   0.179357                -0.011196    -0.448733   \n",
       "837938                  -0.710726                -0.710298    -0.539430   \n",
       "837939                  -0.245389                -0.307304     0.008375   \n",
       "\n",
       "        Amplitude_3  StoreType_b  Assortment_a  Assortment_b  Assortment_c  \n",
       "0         -0.255585          1.0           1.0           0.0           0.0  \n",
       "1          1.227970          1.0           1.0           0.0           0.0  \n",
       "2          1.244981          1.0           0.0           1.0           0.0  \n",
       "3          2.719120          1.0           1.0           0.0           0.0  \n",
       "4         -1.029922          1.0           0.0           1.0           0.0  \n",
       "...             ...          ...           ...           ...           ...  \n",
       "837935    -0.808575          0.0           1.0           0.0           0.0  \n",
       "837936    -0.501966          0.0           0.0           0.0           1.0  \n",
       "837937    -0.324074          0.0           1.0           0.0           0.0  \n",
       "837938    -0.013099          0.0           1.0           0.0           0.0  \n",
       "837939     0.712749          0.0           0.0           0.0           1.0  \n",
       "\n",
       "[837940 rows x 38 columns]"
      ]
     },
     "execution_count": 36,
     "metadata": {},
     "output_type": "execute_result"
    }
   ],
   "source": [
    "base_XX = base_XX[final_selected_features]\n",
    "base_XX"
   ]
  },
  {
   "cell_type": "code",
   "execution_count": 37,
   "id": "ee781c24",
   "metadata": {},
   "outputs": [],
   "source": [
    "# Splitting the data\n",
    "X_train, X_test, y_train, y_test = train_test_split(base_XX,y,shuffle=False,\n",
    "                                random_state=12, test_size=0.2)"
   ]
  },
  {
   "cell_type": "code",
   "execution_count": 38,
   "id": "3cd13fd3",
   "metadata": {},
   "outputs": [
    {
     "data": {
      "text/plain": [
       "array([ 8489.90759128,  7940.89669211, 12249.17978305, ...,\n",
       "       10062.86843124,  6129.76077058,  8730.04828514])"
      ]
     },
     "execution_count": 38,
     "metadata": {},
     "output_type": "execute_result"
    }
   ],
   "source": [
    "# Training the model with Best Hyper-parameters\n",
    "model = RandomForestRegressor(n_estimators=500, max_depth=80,n_jobs=-1,min_samples_leaf=3,random_state=12,min_samples_split=8)\n",
    "model.fit(X_train,y_train)\n",
    "\n",
    "train_predictions = model.predict(X_train)\n",
    "test_predicitions = model.predict(X_test)\n",
    "test_predicitions"
   ]
  },
  {
   "cell_type": "code",
   "execution_count": 39,
   "id": "47c27445",
   "metadata": {},
   "outputs": [
    {
     "name": "stdout",
     "output_type": "stream",
     "text": [
      "RF Regressor - RMSPE: Metric score for train set =  0.07518364527429473\n",
      "RF Regressor - RMSPE: Metric score for test set =  0.0898933150535874\n"
     ]
    }
   ],
   "source": [
    "print(\"RF Regressor - RMSPE: Metric score for train set = \",rmspe(y_train,train_predictions))\n",
    "print(\"RF Regressor - RMSPE: Metric score for test set = \",rmspe(y_test,test_predicitions))"
   ]
  },
  {
   "cell_type": "markdown",
   "id": "bb06a6d4",
   "metadata": {},
   "source": [
    "\n"
   ]
  },
  {
   "cell_type": "code",
   "execution_count": 43,
   "id": "e77ce79b",
   "metadata": {},
   "outputs": [
    {
     "data": {
      "text/plain": [
       "Index(['Id', 'Store', 'DayOfWeek', 'Open', 'Promo', 'StateHoliday',\n",
       "       'SchoolHoliday', 'StoreType', 'Assortment', 'CompetitionDistance',\n",
       "       'CompetitionOpenSinceMonth', 'CompetitionOpenSinceYear', 'Promo2',\n",
       "       'Promo2SinceWeek', 'Promo2SinceYear', 'Year', 'Month', 'Day',\n",
       "       'WeekOfYear', 'DayOfYear', 'holidays_this_week', 'holidays_last_week',\n",
       "       'holidays_next_week', 'State_holiday_before_days',\n",
       "       'State_holiday_after_days', 'Promo_before_days', 'Promo_after_days',\n",
       "       'School_Holiday_before_days', 'School_Holiday_after_days',\n",
       "       'Sales_per_day', 'Customers_per_day', 'Sales_Per_Customers_Per_Day',\n",
       "       'CompetitionOpen', 'PromoOpen', 'PromoInterval0', 'PromoInterval1',\n",
       "       'PromoInterval2', 'PromoInterval3', 'Variation', 'Acceleration',\n",
       "       'Weekly_rolling_mean', 'Monthly_rolling_mean',\n",
       "       'Previous_quarter_median', 'Previous_half_year_median',\n",
       "       'Median_over_day_of_week', 'Frequency_2', 'Frequency_3', 'Amplitude_2',\n",
       "       'Amplitude_3', 'Median_over_day_week'],\n",
       "      dtype='object')"
      ]
     },
     "execution_count": 43,
     "metadata": {},
     "output_type": "execute_result"
    }
   ],
   "source": [
    "df_test.columns"
   ]
  },
  {
   "cell_type": "code",
   "execution_count": 71,
   "id": "934cfafe",
   "metadata": {
    "scrolled": true
   },
   "outputs": [],
   "source": [
    "# Preparing Test data\n",
    "base_TT = df_test[numeric_cols]\n",
    "\n",
    "# Handing Missinng and Scaling Numerical data\n",
    "base_tt_numeric = base_TT[numeric_cols]\n",
    "\n",
    "# Impute training data\n",
    "imputer = SimpleImputer(strategy='median')\n",
    "X_train_imputed = imputer.fit_transform(base_tt_numeric)\n",
    "\n",
    "# Encode training data\n",
    "scaler = StandardScaler()\n",
    "X_encoded_numeric = scaler.fit_transform(X_train_imputed)\n"
   ]
  },
  {
   "cell_type": "code",
   "execution_count": 75,
   "id": "2729282d",
   "metadata": {},
   "outputs": [],
   "source": [
    "scaled_numeric_df = pd.DataFrame(X_encoded_numeric, columns = base_tt_numeric.columns)"
   ]
  },
  {
   "cell_type": "code",
   "execution_count": 101,
   "id": "d7772ccb",
   "metadata": {},
   "outputs": [],
   "source": [
    "base_categorical = df_test[categorical_cols]\n",
    "\n",
    "# Impute training data\n",
    "imputer = SimpleImputer(strategy='most_frequent')\n",
    "X_train_imputed = imputer.fit_transform(base_categorical)\n",
    "\n",
    "# Encode training data\n",
    "encoder = OneHotEncoder(handle_unknown='ignore')\n",
    "X_encoded_categorical = encoder.fit_transform(X_train_imputed)\n",
    "\n",
    "column_name = encoder.get_feature_names(['StateHoliday', 'StoreType', 'Assortment'])\n",
    "scaled_categorical_df =  pd.DataFrame(X_encoded_categorical.todense(), columns= column_name)\n",
    "    "
   ]
  },
  {
   "cell_type": "code",
   "execution_count": 110,
   "id": "3ad9f90f",
   "metadata": {},
   "outputs": [],
   "source": [
    "base_submit = pd.concat([scaled_numeric_df.reset_index(drop=True), scaled_categorical_df.reset_index(drop=True)], axis=1)\n",
    "base_submit = base_submit[base_XX.columns]"
   ]
  },
  {
   "cell_type": "code",
   "execution_count": 114,
   "id": "8520235f",
   "metadata": {},
   "outputs": [],
   "source": [
    "model.fit(base_XX,y)\n",
    "preds = model.predict(base_submit)"
   ]
  },
  {
   "cell_type": "code",
   "execution_count": 115,
   "id": "fd371aee",
   "metadata": {},
   "outputs": [],
   "source": [
    "#Defining a new dataframe to contain the predictions according to the IDs.\n",
    "df_ypred = pd.DataFrame()\n",
    "df_ypred['Id'] = ids\n",
    "\n",
    "# Scale back the log of sales to sales.\n",
    "df_ypred['Sales'] = preds  \n",
    "\n",
    "for i in range(len(df_ypred)):\n",
    "\n",
    "    id = df_ypred.iloc[i]['Id']\n",
    "    if id in closed_test_ids or b:\n",
    "        df_ypred.iloc[i]['Sales'] = 0\n",
    "    else:\n",
    "        continue\n",
    "\n",
    "#Sorting values according to ID\n",
    "df_ypred.sort_values('Id', inplace=True)\n",
    "df_ypred[['Id', 'Sales']].to_csv('predictions/rossmann_after_feature_selection_RF.csv', index=False)"
   ]
  },
  {
   "cell_type": "markdown",
   "id": "be576d5c",
   "metadata": {},
   "source": [
    "# Model 1: Random Forest Regressor"
   ]
  },
  {
   "cell_type": "code",
   "execution_count": 130,
   "id": "caafaa0b",
   "metadata": {},
   "outputs": [],
   "source": [
    "#base_XX.to_csv('data_for_modeling/train_data.csv',index=False)\n",
    "#base_submit.to_csv(\"data_for_modeling/test_data.csv\",index=False)"
   ]
  },
  {
   "cell_type": "code",
   "execution_count": 2,
   "id": "763ac519",
   "metadata": {},
   "outputs": [],
   "source": [
    "base_XX = pd.read_csv(\"data_for_modeling/train_data.csv\")\n",
    "base_submit = pd.read_csv(\"data_for_modeling/test_data.csv\")"
   ]
  },
  {
   "cell_type": "code",
   "execution_count": 119,
   "id": "7238cdab",
   "metadata": {},
   "outputs": [
    {
     "name": "stdout",
     "output_type": "stream",
     "text": [
      "{'n_estimators': 200, 'min_samples_split': 8, 'min_samples_leaf': 3, 'max_depth': 80}\n"
     ]
    }
   ],
   "source": [
    "# Splitting the data\n",
    "X_train, X_test, y_train, y_test = train_test_split(base_XX,y,shuffle=False,\n",
    "                                random_state=12, test_size=0.2)\n",
    "\n",
    "\n",
    "# Create the parameter grid based on the results of random search \n",
    "model = RandomForestRegressor()\n",
    "param_grid_rf = {\n",
    "    'max_depth': [80, 90, 100 ],\n",
    "    'min_samples_leaf': [3, 4, 5],\n",
    "    'min_samples_split': [8, 10, 12],\n",
    "    'n_estimators': [100, 200, 300, 500]\n",
    "}\n",
    "\n",
    "#Instantiate the grid search model\n",
    "random_search = RandomizedSearchCV(model,param_grid_rf, \n",
    "                          cv = 2, n_jobs = 8)\n",
    "\n",
    "random_search.fit(X_train,y_train)\n",
    "print(random_search.best_params_)"
   ]
  },
  {
   "cell_type": "code",
   "execution_count": 123,
   "id": "35408781",
   "metadata": {},
   "outputs": [],
   "source": [
    "# Training the model with Best Hyper-parameters\n",
    "model = RandomForestRegressor(n_estimators=200, max_depth=80,n_jobs=-1,min_samples_leaf=3,random_state=12,min_samples_split=8)\n",
    "model.fit(X_train,y_train)\n",
    "\n",
    "train_predictions = model.predict(X_train)\n",
    "test_predicitions = model.predict(X_test)"
   ]
  },
  {
   "cell_type": "code",
   "execution_count": 126,
   "id": "86bf5f3e",
   "metadata": {},
   "outputs": [
    {
     "name": "stdout",
     "output_type": "stream",
     "text": [
      "RF Regressor (after HPT) - RMSPE: Metric score for train set =  0.07606285203807295\n",
      "RF Regressor (after HPT) - RMSPE: Metric score for test set =  0.09006126661770532\n"
     ]
    }
   ],
   "source": [
    "print(\"RF Regressor (after HPT) - RMSPE: Metric score for train set = \",rmspe(y_train,train_predictions))\n",
    "print(\"RF Regressor (after HPT) - RMSPE: Metric score for test set = \",rmspe(y_test,test_predicitions))"
   ]
  },
  {
   "cell_type": "code",
   "execution_count": 120,
   "id": "94b48046",
   "metadata": {},
   "outputs": [
    {
     "data": {
      "text/plain": [
       "array([ 8489.90759128,  7940.89669211, 12249.17978305, ...,\n",
       "       10062.86843124,  6129.76077058,  8730.04828514])"
      ]
     },
     "execution_count": 120,
     "metadata": {},
     "output_type": "execute_result"
    }
   ],
   "source": [
    "# Training the model with Best Hyper-parameters\n",
    "model = RandomForestRegressor(n_estimators=500, max_depth=80,n_jobs=-1,min_samples_leaf=3,random_state=12,min_samples_split=8)\n",
    "model.fit(X_train,y_train)\n",
    "\n",
    "train_predictions = model.predict(X_train)\n",
    "test_predicitions = model.predict(X_test)\n",
    "test_predicitions"
   ]
  },
  {
   "cell_type": "code",
   "execution_count": 121,
   "id": "f69394dd",
   "metadata": {},
   "outputs": [
    {
     "name": "stdout",
     "output_type": "stream",
     "text": [
      "RF Regressor (after HPT) - RMSPE: Metric score for train set =  0.07518364527429475\n",
      "RF Regressor (after HPT) - RMSPE: Metric score for test set =  0.08989331505358739\n"
     ]
    }
   ],
   "source": [
    "print(\"RF Regressor (after HPT) - RMSPE: Metric score for train set = \",rmspe(y_train,train_predictions))\n",
    "print(\"RF Regressor (after HPT) - RMSPE: Metric score for test set = \",rmspe(y_test,test_predicitions))"
   ]
  },
  {
   "cell_type": "code",
   "execution_count": 124,
   "id": "16995d9e",
   "metadata": {},
   "outputs": [],
   "source": [
    "model.fit(base_XX,y)\n",
    "preds = model.predict(base_submit)"
   ]
  },
  {
   "cell_type": "code",
   "execution_count": 125,
   "id": "a60aa77e",
   "metadata": {},
   "outputs": [],
   "source": [
    "#Defining a new dataframe to contain the predictions according to the IDs.\n",
    "df_ypred = pd.DataFrame()\n",
    "df_ypred['Id'] = ids\n",
    "\n",
    "# Scale back the log of sales to sales.\n",
    "df_ypred['Sales'] = preds  \n",
    "\n",
    "for i in range(len(df_ypred)):\n",
    "\n",
    "    id = df_ypred.iloc[i]['Id']\n",
    "    if id in closed_test_ids or b:\n",
    "        df_ypred.iloc[i]['Sales'] = 0\n",
    "    else:\n",
    "        continue\n",
    "\n",
    "#Sorting values according to ID\n",
    "df_ypred.sort_values('Id', inplace=True)\n",
    "df_ypred[['Id', 'Sales']].to_csv('predictions/rossmann_RF_FS_HPT.csv', index=False)"
   ]
  },
  {
   "cell_type": "code",
   "execution_count": 3,
   "id": "7685f467",
   "metadata": {},
   "outputs": [
    {
     "data": {
      "text/html": [
       "<img src=\"../Kaggle_result/random_forest_result.PNG\" width=\"800\" height=\"400\"/>"
      ],
      "text/plain": [
       "<IPython.core.display.Image object>"
      ]
     },
     "execution_count": 3,
     "metadata": {},
     "output_type": "execute_result"
    }
   ],
   "source": [
    "Image(url= \"../Kaggle_result/random_forest_result.PNG\", width=800, height=400)"
   ]
  },
  {
   "cell_type": "markdown",
   "id": "2a3a05a8",
   "metadata": {},
   "source": [
    "# Model 2- XGBoost"
   ]
  },
  {
   "cell_type": "code",
   "execution_count": 21,
   "id": "01c4c851",
   "metadata": {},
   "outputs": [
    {
     "name": "stdout",
     "output_type": "stream",
     "text": [
      "Fitting 2 folds for each of 10 candidates, totalling 20 fits\n",
      "[21:48:29] WARNING: C:/Users/Administrator/workspace/xgboost-win64_release_1.5.1/src/objective/regression_obj.cu:188: reg:linear is now deprecated in favor of reg:squarederror.\n",
      "[21:48:29] WARNING: C:/Users/Administrator/workspace/xgboost-win64_release_1.5.1/src/learner.cc:576: \n",
      "Parameters: { \"silent\" } might not be used.\n",
      "\n",
      "  This could be a false alarm, with some parameters getting used by language bindings but\n",
      "  then being mistakenly passed down to XGBoost core, or some parameter actually being used\n",
      "  but getting flagged wrongly here. Please open an issue if you find any such cases.\n",
      "\n",
      "\n",
      "0.9644452041876472\n",
      "{'subsample': 0.7, 'silent': 1, 'objective': 'reg:linear', 'n_estimators': 300, 'min_child_weight': 4, 'max_depth': 10, 'learning_rate': 0.05, 'colsample_bytree': 0.7}\n"
     ]
    }
   ],
   "source": [
    "# Splitting the data\n",
    "X_train, X_test, y_train, y_test = train_test_split(base_XX,y,shuffle=False,\n",
    "                                random_state=12, test_size=0.33)\n",
    "\n",
    "from xgboost.sklearn import XGBRegressor\n",
    "\n",
    "# Hyper-parameter Tunning \n",
    "xgb = XGBRegressor()\n",
    "parameters = { \n",
    "              'objective':['reg:linear'],\n",
    "              'learning_rate': [.03, 0.05],\n",
    "              'max_depth': [5, 6 ,7 ,10],\n",
    "              'min_child_weight': [4],\n",
    "              'silent': [1],\n",
    "              'subsample': [0.7],\n",
    "              'colsample_bytree': [0.7],\n",
    "              'n_estimators': [200,300]}\n",
    "\n",
    "xgb_grid = RandomizedSearchCV(xgb,\n",
    "                        parameters,\n",
    "                        cv = 2,\n",
    "                        n_jobs = 8,\n",
    "                        verbose=True)\n",
    "\n",
    "xgb_grid.fit(X_train,y_train)\n",
    "\n",
    "print(xgb_grid.best_score_)\n",
    "print(xgb_grid.best_params_)"
   ]
  },
  {
   "cell_type": "code",
   "execution_count": 22,
   "id": "3a415e84",
   "metadata": {},
   "outputs": [
    {
     "data": {
      "text/plain": [
       "array([ 5518.5786,  5080.596 ,  6372.786 , ..., 10617.292 ,  5647.61  ,\n",
       "        9568.854 ], dtype=float32)"
      ]
     },
     "execution_count": 22,
     "metadata": {},
     "output_type": "execute_result"
    }
   ],
   "source": [
    "from xgboost.sklearn import XGBRegressor\n",
    "\n",
    "xgb_model = XGBRegressor(n_estimators=300,\n",
    "                         max_depth=10,\n",
    "                         learning_rate=0.05,\n",
    "                         min_child_weight = 4,\n",
    "                         colsample_bytree = 0.7,\n",
    "                         n_jobs=-1)\n",
    "xgb_model.fit(X_train,y_train)\n",
    "\n",
    "train_predictions = xgb_model.predict(X_train)\n",
    "test_predicitions = xgb_model.predict(X_test)\n",
    "test_predicitions"
   ]
  },
  {
   "cell_type": "code",
   "execution_count": 30,
   "id": "beac6a6f",
   "metadata": {},
   "outputs": [
    {
     "name": "stdout",
     "output_type": "stream",
     "text": [
      "XGBoost Regressor (after HPT) - RMSPE: Metric score for train set =  0.047038331353422065\n",
      "XGBoost Regressor (after HPT) - RMSPE: Metric score for test set =  0.15078382464338455\n"
     ]
    }
   ],
   "source": [
    "print(\"XGBoost Regressor (after HPT) - RMSPE: Metric score for train set = \",rmspe(y_train,train_predictions))\n",
    "print(\"XGBoost Regressor (after HPT) - RMSPE: Metric score for test set = \",rmspe(y_test,test_predicitions))"
   ]
  },
  {
   "cell_type": "code",
   "execution_count": 26,
   "id": "4b324ad5",
   "metadata": {},
   "outputs": [],
   "source": [
    "xgb_model.fit(base_XX,y)\n",
    "preds = xgb_model.predict(base_submit)"
   ]
  },
  {
   "cell_type": "code",
   "execution_count": 29,
   "id": "99711b5d",
   "metadata": {},
   "outputs": [],
   "source": [
    "#Defining a new dataframe to contain the predictions according to the IDs.\n",
    "df_ypred = pd.DataFrame()\n",
    "df_ypred['Id'] = ids\n",
    "\n",
    "# Scale back the log of sales to sales.\n",
    "df_ypred['Sales'] = preds  \n",
    "\n",
    "for i in range(len(df_ypred)):\n",
    "\n",
    "    id = df_ypred.iloc[i]['Id']\n",
    "    if id in closed_test_ids or b:\n",
    "        df_ypred.iloc[i]['Sales'] = 0\n",
    "    else:\n",
    "        continue\n",
    "\n",
    "#Sorting values according to ID\n",
    "df_ypred.sort_values('Id', inplace=True)\n",
    "df_ypred[['Id', 'Sales']].to_csv('predictions/rossmann_XG_FS_HPT.csv', index=False)"
   ]
  },
  {
   "cell_type": "code",
   "execution_count": 4,
   "id": "9565d34a",
   "metadata": {},
   "outputs": [
    {
     "data": {
      "text/html": [
       "<img src=\"Kaggle_result/XGBOOST_result.PNG\" width=\"800\" height=\"400\"/>"
      ],
      "text/plain": [
       "<IPython.core.display.Image object>"
      ]
     },
     "execution_count": 4,
     "metadata": {},
     "output_type": "execute_result"
    }
   ],
   "source": [
    "Image(url= \"Kaggle_result/XGBOOST_result.PNG\", width=800, height=400)"
   ]
  },
  {
   "cell_type": "markdown",
   "id": "c8f5cb92",
   "metadata": {},
   "source": [
    "# Model 3:  SGD Regressor"
   ]
  },
  {
   "cell_type": "code",
   "execution_count": 31,
   "id": "e55a14d8",
   "metadata": {},
   "outputs": [
    {
     "name": "stdout",
     "output_type": "stream",
     "text": [
      "{'penalty': 'l2', 'loss': 'squared_loss', 'learning_rate': 'adaptive', 'alpha': 0.001}\n"
     ]
    }
   ],
   "source": [
    "from xgboost.sklearn import XGBRegressor\n",
    "\n",
    "# Splitting the data\n",
    "X_train, X_test, y_train, y_test = train_test_split(base_XX,y,shuffle=False,\n",
    "                                random_state=12, test_size=0.2)\n",
    "\n",
    "model = SGDRegressor()\n",
    "param_grid = {\n",
    "    'alpha': 10.0 ** -np.arange(1, 4),\n",
    "    'loss': ['squared_loss'],\n",
    "    'penalty': ['l2'],\n",
    "    'learning_rate': ['adaptive'],\n",
    "}\n",
    "clf = RandomizedSearchCV(model, param_grid)\n",
    "clf.fit(X_train, y_train)\n",
    "print(clf.best_params_)"
   ]
  },
  {
   "cell_type": "code",
   "execution_count": 43,
   "id": "a89952d2",
   "metadata": {},
   "outputs": [
    {
     "data": {
      "text/plain": [
       "array([ 8541.6781221 ,  7906.89066602, 11809.89200011, ...,\n",
       "        9990.16631102,  5897.18221557,  8832.99046285])"
      ]
     },
     "execution_count": 43,
     "metadata": {},
     "output_type": "execute_result"
    }
   ],
   "source": [
    "model = SGDRegressor(eta0=0.01, fit_intercept=False, shuffle=False,\n",
    "                    learning_rate='adaptive',random_state=12,alpha=0.001)\n",
    "\n",
    "model.fit(X_train,y_train)\n",
    "train_predictions = model.predict(X_train)\n",
    "test_prediction = model.predict(X_test)\n",
    "test_prediction"
   ]
  },
  {
   "cell_type": "code",
   "execution_count": 46,
   "id": "ce54cb41",
   "metadata": {},
   "outputs": [
    {
     "data": {
      "text/plain": [
       "(167588,)"
      ]
     },
     "execution_count": 46,
     "metadata": {},
     "output_type": "execute_result"
    }
   ],
   "source": [
    "test_prediction.shape"
   ]
  },
  {
   "cell_type": "code",
   "execution_count": 47,
   "id": "325ca4eb",
   "metadata": {},
   "outputs": [
    {
     "name": "stdout",
     "output_type": "stream",
     "text": [
      "SGD Regressor (after HPT) - RMSPE: Metric score for train set =  0.12101601574219796\n",
      "SGD Regressor (after HPT) - RMSPE: Metric score for test set =  0.10764963468536305\n"
     ]
    }
   ],
   "source": [
    "print(\"SGD Regressor (after HPT) - RMSPE: Metric score for train set = \",rmspe(y_train,train_predictions))\n",
    "print(\"SGD Regressor (after HPT) - RMSPE: Metric score for test set = \",rmspe(y_test,test_prediction))"
   ]
  },
  {
   "cell_type": "code",
   "execution_count": 48,
   "id": "afbaa90a",
   "metadata": {},
   "outputs": [],
   "source": [
    "model.fit(base_XX,y)\n",
    "preds = model.predict(base_submit)"
   ]
  },
  {
   "cell_type": "code",
   "execution_count": 49,
   "id": "fd3dcf72",
   "metadata": {},
   "outputs": [],
   "source": [
    "#Defining a new dataframe to contain the predictions according to the IDs.\n",
    "df_ypred = pd.DataFrame()\n",
    "df_ypred['Id'] = ids\n",
    "\n",
    "# Scale back the log of sales to sales.\n",
    "df_ypred['Sales'] = preds  \n",
    "\n",
    "for i in range(len(df_ypred)):\n",
    "\n",
    "    id = df_ypred.iloc[i]['Id']\n",
    "    if id in closed_test_ids or b:\n",
    "        df_ypred.iloc[i]['Sales'] = 0\n",
    "    else:\n",
    "        continue\n",
    "\n",
    "#Sorting values according to ID\n",
    "df_ypred.sort_values('Id', inplace=True)\n",
    "df_ypred[['Id', 'Sales']].to_csv('predictions/rossmann_SGD_FS_HPT.csv', index=False)"
   ]
  },
  {
   "cell_type": "code",
   "execution_count": 102,
   "id": "ce5d6e0b",
   "metadata": {},
   "outputs": [
    {
     "data": {
      "text/html": [
       "<img src=\"Kaggle_result/SGD_result.PNG\" width=\"800\" height=\"400\"/>"
      ],
      "text/plain": [
       "<IPython.core.display.Image object>"
      ]
     },
     "execution_count": 102,
     "metadata": {},
     "output_type": "execute_result"
    }
   ],
   "source": [
    "Image(url= \"Kaggle_result/SGD_result.PNG\", width=800, height=400)"
   ]
  },
  {
   "cell_type": "markdown",
   "id": "e23e1846",
   "metadata": {},
   "source": [
    "# Model 4: stacking Regressor"
   ]
  },
  {
   "cell_type": "code",
   "execution_count": 50,
   "id": "0feed075",
   "metadata": {},
   "outputs": [],
   "source": [
    "# Splitting the data\n",
    "X_train, X_test, y_train, y_test = train_test_split(base_XX,y,shuffle=False,\n",
    "                                random_state=12, test_size=0.2)\n"
   ]
  },
  {
   "cell_type": "code",
   "execution_count": 51,
   "id": "2df52feb",
   "metadata": {},
   "outputs": [
    {
     "data": {
      "text/plain": [
       "array([ 8421.57411366,  7951.1169088 , 12137.34107173, ...,\n",
       "       10171.25318497,  6208.78959916,  8898.98997274])"
      ]
     },
     "execution_count": 51,
     "metadata": {},
     "output_type": "execute_result"
    }
   ],
   "source": [
    "# Stacking Regressor : http://rasbt.github.io/mlxtend/user_guide/regressor/StackingRegressor/\n",
    "\n",
    "from mlxtend.regressor import StackingRegressor\n",
    "\n",
    "reg_model1 = SGDRegressor(eta0=0.01, fit_intercept=False, shuffle=False,\n",
    "                    learning_rate='adaptive',random_state=12,alpha=0.001)\n",
    "\n",
    "reg_model2 = RandomForestRegressor(n_estimators=200, \n",
    "                                   max_depth=80,\n",
    "                                   n_jobs=-1,\n",
    "                                   min_samples_leaf=3,\n",
    "                                   random_state=12,\n",
    "                                   min_samples_split=8)\n",
    "\n",
    "reg_model3 = XGBRegressor(n_estimators=300,\n",
    "                         max_depth=10,\n",
    "                         learning_rate=0.05,\n",
    "                         min_child_weight = 4,\n",
    "                         colsample_bytree = 0.7,\n",
    "                         n_jobs=-1)\n",
    "\n",
    "stacked_regessor = StackingRegressor(regressors=[reg_model1, reg_model2, reg_model3], \n",
    "                           meta_regressor=reg_model2)\n",
    "\n",
    "stacked_regessor.fit(X_train, y_train)\n",
    "\n",
    "train_predictions = stacked_regessor.predict(X_train)\n",
    "test_predicitions = stacked_regessor.predict(X_test)\n",
    "test_predicitions"
   ]
  },
  {
   "cell_type": "code",
   "execution_count": 53,
   "id": "0a9a9dac",
   "metadata": {},
   "outputs": [
    {
     "name": "stdout",
     "output_type": "stream",
     "text": [
      "Stacking Regressor (after HPT) - RMSPE: Metric score for train set =  0.03878772764405638\n",
      "Stacking Regressor (after HPT) - RMSPE: Metric score for test set =  0.08514293143102773\n"
     ]
    }
   ],
   "source": [
    "print(\"Stacking Regressor (after HPT) - RMSPE: Metric score for train set = \",rmspe(y_train,train_predictions))\n",
    "print(\"Stacking Regressor (after HPT) - RMSPE: Metric score for test set = \",rmspe(y_test,test_predicitions))"
   ]
  },
  {
   "cell_type": "code",
   "execution_count": 54,
   "id": "70b380af",
   "metadata": {},
   "outputs": [],
   "source": [
    "model.fit(base_XX,y)\n",
    "preds = model.predict(base_submit)"
   ]
  },
  {
   "cell_type": "code",
   "execution_count": 55,
   "id": "10923ea6",
   "metadata": {},
   "outputs": [],
   "source": [
    "#Defining a new dataframe to contain the predictions according to the IDs.\n",
    "df_ypred = pd.DataFrame()\n",
    "df_ypred['Id'] = ids\n",
    "\n",
    "# Scale back the log of sales to sales.\n",
    "df_ypred['Sales'] = preds  \n",
    "\n",
    "for i in range(len(df_ypred)):\n",
    "\n",
    "    id = df_ypred.iloc[i]['Id']\n",
    "    if id in closed_test_ids or b:\n",
    "        df_ypred.iloc[i]['Sales'] = 0\n",
    "    else:\n",
    "        continue\n",
    "\n",
    "#Sorting values according to ID\n",
    "df_ypred.sort_values('Id', inplace=True)\n",
    "df_ypred[['Id', 'Sales']].to_csv('predictions/rossmann_Stacking_FS_HPT.csv', index=False)"
   ]
  },
  {
   "cell_type": "code",
   "execution_count": 103,
   "id": "151aac74",
   "metadata": {},
   "outputs": [
    {
     "data": {
      "text/html": [
       "<img src=\"Kaggle_result/stacking_classifier_result.PNG\" width=\"800\" height=\"400\"/>"
      ],
      "text/plain": [
       "<IPython.core.display.Image object>"
      ]
     },
     "execution_count": 103,
     "metadata": {},
     "output_type": "execute_result"
    }
   ],
   "source": [
    "Image(url= \"Kaggle_result/stacking_classifier_result.PNG\", width=800, height=400)"
   ]
  },
  {
   "cell_type": "markdown",
   "id": "dd477001",
   "metadata": {},
   "source": [
    "# Final Results"
   ]
  },
  {
   "cell_type": "code",
   "execution_count": 69,
   "id": "22e56eb8",
   "metadata": {},
   "outputs": [
    {
     "data": {
      "text/html": [
       "<div>\n",
       "<style scoped>\n",
       "    .dataframe tbody tr th:only-of-type {\n",
       "        vertical-align: middle;\n",
       "    }\n",
       "\n",
       "    .dataframe tbody tr th {\n",
       "        vertical-align: top;\n",
       "    }\n",
       "\n",
       "    .dataframe thead th {\n",
       "        text-align: right;\n",
       "    }\n",
       "</style>\n",
       "<table border=\"1\" class=\"dataframe\">\n",
       "  <thead>\n",
       "    <tr style=\"text-align: right;\">\n",
       "      <th></th>\n",
       "      <th>train rmspe</th>\n",
       "      <th>test rmspe</th>\n",
       "      <th>Kaggle private score</th>\n",
       "    </tr>\n",
       "    <tr>\n",
       "      <th>Model</th>\n",
       "      <th></th>\n",
       "      <th></th>\n",
       "      <th></th>\n",
       "    </tr>\n",
       "  </thead>\n",
       "  <tbody>\n",
       "    <tr>\n",
       "      <th>Random Forest</th>\n",
       "      <td>0.070</td>\n",
       "      <td>0.090</td>\n",
       "      <td>0.41</td>\n",
       "    </tr>\n",
       "    <tr>\n",
       "      <th>XG Boost</th>\n",
       "      <td>0.040</td>\n",
       "      <td>0.150</td>\n",
       "      <td>0.44</td>\n",
       "    </tr>\n",
       "    <tr>\n",
       "      <th>SGD Regressor</th>\n",
       "      <td>0.120</td>\n",
       "      <td>0.100</td>\n",
       "      <td>0.52</td>\n",
       "    </tr>\n",
       "    <tr>\n",
       "      <th>Stacking Regressor</th>\n",
       "      <td>0.038</td>\n",
       "      <td>0.085</td>\n",
       "      <td>0.48</td>\n",
       "    </tr>\n",
       "  </tbody>\n",
       "</table>\n",
       "</div>"
      ],
      "text/plain": [
       "                    train rmspe  test rmspe  Kaggle private score\n",
       "Model                                                            \n",
       "Random Forest             0.070       0.090                  0.41\n",
       "XG Boost                  0.040       0.150                  0.44\n",
       "SGD Regressor             0.120       0.100                  0.52\n",
       "Stacking Regressor        0.038       0.085                  0.48"
      ]
     },
     "execution_count": 69,
     "metadata": {},
     "output_type": "execute_result"
    }
   ],
   "source": [
    "columns = ['Model','train rmspe','test rmspe','Kaggle private score']\n",
    "result = [ [\"Random Forest\",0.07,0.09,0.41],\n",
    "           [\"XG Boost\",0.04,0.15,0.44],\n",
    "           [\"SGD Regressor\",0.12,0.10,0.52],\n",
    "           [\"Stacking Regressor\",0.038,0.085,0.52]]\n",
    "\n",
    "final_result = pd.DataFrame(result,columns=columns)\n",
    "final_result.set_index(\"Model\")"
   ]
  }
 ],
 "metadata": {
  "kernelspec": {
   "display_name": "Python 3 (ipykernel)",
   "language": "python",
   "name": "python3"
  },
  "language_info": {
   "codemirror_mode": {
    "name": "ipython",
    "version": 3
   },
   "file_extension": ".py",
   "mimetype": "text/x-python",
   "name": "python",
   "nbconvert_exporter": "python",
   "pygments_lexer": "ipython3",
   "version": "3.9.7"
  }
 },
 "nbformat": 4,
 "nbformat_minor": 5
}
